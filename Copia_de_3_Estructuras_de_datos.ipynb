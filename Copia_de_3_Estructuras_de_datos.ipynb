{
  "nbformat": 4,
  "nbformat_minor": 0,
  "metadata": {
    "colab": {
      "provenance": [],
      "include_colab_link": true
    },
    "kernelspec": {
      "name": "python3",
      "display_name": "Python 3"
    },
    "language_info": {
      "name": "python"
    }
  },
  "cells": [
    {
      "cell_type": "markdown",
      "metadata": {
        "id": "view-in-github",
        "colab_type": "text"
      },
      "source": [
        "<a href=\"https://colab.research.google.com/github/Valento99/codigos_estudio_poo_eia/blob/main/Copia_de_3_Estructuras_de_datos.ipynb\" target=\"_parent\"><img src=\"https://colab.research.google.com/assets/colab-badge.svg\" alt=\"Open In Colab\"/></a>"
      ]
    },
    {
      "cell_type": "markdown",
      "source": [
        "Imagínese que requiere guardar la edad de 6 personas, a lo que usted propone tener que crear 6 variables para poder resolver este problema:"
      ],
      "metadata": {
        "id": "3Dt9RKFexvJG"
      }
    },
    {
      "cell_type": "code",
      "source": [
        "edad1 = 10\n",
        "edad2 = 20\n",
        "edad3 = 30\n",
        "edad4 = 40\n",
        "edad5 = 50\n",
        "edad6 = 60"
      ],
      "metadata": {
        "id": "a2pkEAcyxu5Q"
      },
      "execution_count": null,
      "outputs": []
    },
    {
      "cell_type": "markdown",
      "source": [
        "¿Qué haríamos en la situación donde se requiere almacenar 1.000.000 de edades?\n",
        "\n",
        "Cláramente la solución anterior no es la mejor para resolver el problema con tantos datos."
      ],
      "metadata": {
        "id": "my52Cuhnx9lw"
      }
    },
    {
      "cell_type": "markdown",
      "source": [
        "# Listas:\n",
        "\n",
        "Es una colección de datos que ordena sus elementos usando algo llamado índice y permite almacenar cualquier tipo de dato. Las listas separan sus elementos por coma y rodean estos por [].\n",
        "\n",
        "Las listas por naturaleza son mutables, esto quiere decir que se pueden modificar, agregar y eliminar cada uno de sus elementos."
      ],
      "metadata": {
        "id": "yOY76IhQxsC6"
      }
    },
    {
      "cell_type": "code",
      "execution_count": null,
      "metadata": {
        "colab": {
          "base_uri": "https://localhost:8080/"
        },
        "id": "t31xABtvxUma",
        "outputId": "05fc94c9-a51f-4182-ea3f-ab526490d8cc"
      },
      "outputs": [
        {
          "output_type": "stream",
          "name": "stdout",
          "text": [
            "[20, 33, 15, 74]\n",
            "<class 'list'>\n"
          ]
        }
      ],
      "source": [
        "edades = [20,33,15,74]\n",
        "print(edades)\n",
        "print(type(edades))"
      ]
    },
    {
      "cell_type": "code",
      "source": [
        "nombres = ['Santiago','Manuela','Luis','Angelica']\n",
        "print(nombres, type(nombres))"
      ],
      "metadata": {
        "colab": {
          "base_uri": "https://localhost:8080/"
        },
        "id": "SpZTcTJL0WId",
        "outputId": "1a72996c-94a4-4d14-ee0b-a45302013bba"
      },
      "execution_count": null,
      "outputs": [
        {
          "output_type": "stream",
          "name": "stdout",
          "text": [
            "['Santiago', 'Manuela', 'Luis', 'Angelica'] <class 'list'>\n"
          ]
        }
      ]
    },
    {
      "cell_type": "code",
      "source": [
        "alturas = [1.65,1.86,1.77]\n",
        "print(alturas, type(alturas))"
      ],
      "metadata": {
        "colab": {
          "base_uri": "https://localhost:8080/"
        },
        "id": "3JdXLkpw0qar",
        "outputId": "0aa973e9-e529-42c6-8e0d-6e1b3e07b36e"
      },
      "execution_count": null,
      "outputs": [
        {
          "output_type": "stream",
          "name": "stdout",
          "text": [
            "[1.65, 1.86, 1.77] <class 'list'>\n"
          ]
        }
      ]
    },
    {
      "cell_type": "code",
      "source": [
        "cosas = [True, 3.6, 25, 'HOLA', [100,200,300]]\n",
        "print(cosas)"
      ],
      "metadata": {
        "colab": {
          "base_uri": "https://localhost:8080/"
        },
        "id": "4UTNKd2S0yia",
        "outputId": "a5b3801c-f474-4664-ad31-fac46066f280"
      },
      "execution_count": null,
      "outputs": [
        {
          "output_type": "stream",
          "name": "stdout",
          "text": [
            "[True, 3.6, 25, 'HOLA', [100, 200, 300]]\n"
          ]
        }
      ]
    },
    {
      "cell_type": "code",
      "source": [
        "# lista_vacia = []\n",
        "lista_vacia = list()\n",
        "print(lista_vacia)"
      ],
      "metadata": {
        "colab": {
          "base_uri": "https://localhost:8080/"
        },
        "id": "GWuHJKxW04S-",
        "outputId": "4c64c9c6-df31-4075-fe36-2e13960e633e"
      },
      "execution_count": null,
      "outputs": [
        {
          "output_type": "stream",
          "name": "stdout",
          "text": [
            "[]\n"
          ]
        }
      ]
    },
    {
      "cell_type": "markdown",
      "source": [
        "Las acciones \"básicas\" para trabajar con listas son:\n",
        "\n",
        "- Crearlas\n",
        "- Mostrar un valor específico\n",
        "- Modificar un valor específico\n",
        "- Agregar elementos\n",
        "- Eliminar elementos\n",
        "- Hacer uso de las funcionalidades que ya traen las listas"
      ],
      "metadata": {
        "id": "Xz3CbVU20_ec"
      }
    },
    {
      "cell_type": "code",
      "source": [
        "# Acceder a un elemento en específico usando el índice\n",
        "print(edades)\n",
        "print(edades[1])\n",
        "print(edades[3])\n",
        "print(edades[-1])"
      ],
      "metadata": {
        "colab": {
          "base_uri": "https://localhost:8080/"
        },
        "id": "GsTw6TBl07mr",
        "outputId": "9ce87bca-1b2a-4724-ffb0-fc185f4612f5"
      },
      "execution_count": null,
      "outputs": [
        {
          "output_type": "stream",
          "name": "stdout",
          "text": [
            "[20, 33, 15, 74]\n",
            "33\n",
            "74\n",
            "74\n"
          ]
        }
      ]
    },
    {
      "cell_type": "code",
      "source": [
        "print(cosas)\n",
        "print(cosas[2])\n",
        "print(cosas[-1])\n",
        "print(cosas[-1][1])"
      ],
      "metadata": {
        "colab": {
          "base_uri": "https://localhost:8080/"
        },
        "id": "t6P3zC621akj",
        "outputId": "7e212ce4-3e8d-4eb4-e3b3-586f7da3e346"
      },
      "execution_count": null,
      "outputs": [
        {
          "output_type": "stream",
          "name": "stdout",
          "text": [
            "[True, 3.6, 25, 'HOLA', [100, 200, 300]]\n",
            "25\n",
            "[100, 200, 300]\n",
            "200\n"
          ]
        }
      ]
    },
    {
      "cell_type": "code",
      "source": [
        "# slicing\n",
        "print(edades)\n",
        "print(edades[1:3])\n",
        "print(edades[:2])\n",
        "print(edades[1:])"
      ],
      "metadata": {
        "colab": {
          "base_uri": "https://localhost:8080/"
        },
        "id": "CyRgyO0R1-FO",
        "outputId": "faadeaf4-8d22-479a-f2d6-ae391968d1d0"
      },
      "execution_count": null,
      "outputs": [
        {
          "output_type": "stream",
          "name": "stdout",
          "text": [
            "[20, 33, 15, 74]\n",
            "[33, 15]\n",
            "[20, 33]\n",
            "[33, 15, 74]\n"
          ]
        }
      ]
    },
    {
      "cell_type": "code",
      "source": [
        "# Esto en string\n",
        "texto = \"Universidad EIA\"\n",
        "print(texto)\n",
        "print(texto[-1])\n",
        "print(texto[:5])"
      ],
      "metadata": {
        "colab": {
          "base_uri": "https://localhost:8080/"
        },
        "id": "beYAg5ZT25ch",
        "outputId": "74368796-3b63-496a-9c38-a0e5038af55f"
      },
      "execution_count": null,
      "outputs": [
        {
          "output_type": "stream",
          "name": "stdout",
          "text": [
            "Universidad EIA\n",
            "A\n",
            "Unive\n"
          ]
        }
      ]
    },
    {
      "cell_type": "code",
      "source": [
        "# Modificar un elemento en particular de la lista\n",
        "\n",
        "print(alturas)\n",
        "\n",
        "# Para poder modificar un elemento debemos hacer uso del formato lista[indice] = nuevo_valor\n",
        "\n",
        "alturas[0] = 1.75\n",
        "print(alturas)"
      ],
      "metadata": {
        "colab": {
          "base_uri": "https://localhost:8080/"
        },
        "id": "1vFFPiEm3ezB",
        "outputId": "04363da3-45fe-4373-e343-7b2404a7e17d"
      },
      "execution_count": null,
      "outputs": [
        {
          "output_type": "stream",
          "name": "stdout",
          "text": [
            "[1.65, 1.86, 1.77]\n",
            "[1.75, 1.86, 1.77]\n"
          ]
        }
      ]
    },
    {
      "cell_type": "code",
      "source": [
        "alturas[-1] = 'computador'\n",
        "print(alturas)"
      ],
      "metadata": {
        "colab": {
          "base_uri": "https://localhost:8080/"
        },
        "id": "tG8Rw2bk38LF",
        "outputId": "1a210920-4314-4f99-bb38-157459750afe"
      },
      "execution_count": null,
      "outputs": [
        {
          "output_type": "stream",
          "name": "stdout",
          "text": [
            "[1.75, 1.86, 'computador']\n"
          ]
        }
      ]
    },
    {
      "cell_type": "code",
      "source": [
        "# Para poder agregar nuevos elementos contamos con los comandos: append e insert\n",
        "# append: siempre agrega el nuevo elemento en la última posición\n",
        "# insert: agrega el nuevo elemento en una posición definida por nosotros\n",
        "print(edades)"
      ],
      "metadata": {
        "colab": {
          "base_uri": "https://localhost:8080/"
        },
        "id": "WTWD4Kca4SE3",
        "outputId": "4d020442-cb90-4b2b-f8e5-46511ebf6c82"
      },
      "execution_count": null,
      "outputs": [
        {
          "output_type": "stream",
          "name": "stdout",
          "text": [
            "[20, 33, 15, 74, 45, 45, 45]\n"
          ]
        }
      ]
    },
    {
      "cell_type": "code",
      "source": [
        "edades.append(45)\n",
        "print(edades)"
      ],
      "metadata": {
        "colab": {
          "base_uri": "https://localhost:8080/"
        },
        "id": "lunvdYCo4w-B",
        "outputId": "dd5ec8fa-0585-4054-d53a-b92331d82311"
      },
      "execution_count": null,
      "outputs": [
        {
          "output_type": "stream",
          "name": "stdout",
          "text": [
            "[20, 33, 15, 74, 45, 45, 45]\n"
          ]
        }
      ]
    },
    {
      "cell_type": "code",
      "source": [
        "# Crear una lista de N números aleatorios.\n",
        "\n",
        "import random\n",
        "\n",
        "lista = []\n",
        "N = 5\n",
        "for i in range(N):\n",
        "  numero = random.randint(1,10)\n",
        "  lista.append(numero)\n",
        "  print(lista)"
      ],
      "metadata": {
        "colab": {
          "base_uri": "https://localhost:8080/"
        },
        "id": "RQrk78ri43Xx",
        "outputId": "67501dd3-d1c2-4149-e208-39cbda0ce90f"
      },
      "execution_count": null,
      "outputs": [
        {
          "output_type": "stream",
          "name": "stdout",
          "text": [
            "[1]\n",
            "[1, 4]\n",
            "[1, 4, 7]\n",
            "[1, 4, 7, 1]\n",
            "[1, 4, 7, 1, 9]\n"
          ]
        }
      ]
    },
    {
      "cell_type": "code",
      "source": [
        "# A la lista creada se le deben sumar todos sus elementos\n",
        "suma = 0\n",
        "cantidad = len(lista) # obtener la cantidad de elementos de la lista\n",
        "for i in range(cantidad):\n",
        "  print(lista[i], i)\n",
        "  suma += lista[i]\n",
        "print(suma)"
      ],
      "metadata": {
        "colab": {
          "base_uri": "https://localhost:8080/"
        },
        "id": "gNWDpUR65xYW",
        "outputId": "9d90facc-7bdb-4bad-fc99-202027612bb4"
      },
      "execution_count": null,
      "outputs": [
        {
          "output_type": "stream",
          "name": "stdout",
          "text": [
            "1 0\n",
            "4 1\n",
            "7 2\n",
            "1 3\n",
            "9 4\n",
            "22\n"
          ]
        }
      ]
    },
    {
      "cell_type": "code",
      "source": [
        "print(lista)\n",
        "lista.insert(0,3000)\n",
        "print(lista)"
      ],
      "metadata": {
        "colab": {
          "base_uri": "https://localhost:8080/"
        },
        "id": "L-7pXJQQ6ZQ6",
        "outputId": "4578d9f4-96e0-403f-94d0-ccca00d83627"
      },
      "execution_count": null,
      "outputs": [
        {
          "output_type": "stream",
          "name": "stdout",
          "text": [
            "[1, 4, 7, 1, 9]\n",
            "[3000, 1, 4, 7, 1, 9]\n"
          ]
        }
      ]
    },
    {
      "cell_type": "code",
      "source": [
        "lista.insert(3,'hola')\n",
        "print(lista)"
      ],
      "metadata": {
        "colab": {
          "base_uri": "https://localhost:8080/"
        },
        "id": "r92keMu88LD1",
        "outputId": "dfdee659-b020-4c71-b2b0-3d83095d05f1"
      },
      "execution_count": null,
      "outputs": [
        {
          "output_type": "stream",
          "name": "stdout",
          "text": [
            "[3000, 1, 4, 'hola', 7, 1, 9]\n"
          ]
        }
      ]
    },
    {
      "cell_type": "code",
      "source": [
        "# Para \"eliminar\" un elemento de una lista usamos el comando pop:\n",
        "print(lista)"
      ],
      "metadata": {
        "colab": {
          "base_uri": "https://localhost:8080/"
        },
        "id": "y0zLmVvn8VPa",
        "outputId": "1ee641c9-f9a5-4f08-91d2-21f246c6a985"
      },
      "execution_count": null,
      "outputs": [
        {
          "output_type": "stream",
          "name": "stdout",
          "text": [
            "[3000, 1, 4, 'hola', 7, 1, 9]\n"
          ]
        }
      ]
    },
    {
      "cell_type": "code",
      "source": [
        "x = lista.pop(0) # De esta manera se saca el valor de la primera posición y se almacena en la variable x (no se elimina el valor al final)\n",
        "print(lista)\n",
        "print(x)"
      ],
      "metadata": {
        "colab": {
          "base_uri": "https://localhost:8080/"
        },
        "id": "F7Dnh0679Fe9",
        "outputId": "94c5a807-10c7-47ef-ac72-0047f5008338"
      },
      "execution_count": null,
      "outputs": [
        {
          "output_type": "stream",
          "name": "stdout",
          "text": [
            "[4, 'hola', 7, 1, 9]\n",
            "1\n"
          ]
        }
      ]
    },
    {
      "cell_type": "code",
      "source": [
        "lista.pop(0) # Ahora si se elimina (no se puede usar mas) el valor obtenido con pop"
      ],
      "metadata": {
        "id": "6ZHNyFtJ9a8a"
      },
      "execution_count": null,
      "outputs": []
    },
    {
      "cell_type": "code",
      "source": [
        "print(edades)"
      ],
      "metadata": {
        "colab": {
          "base_uri": "https://localhost:8080/"
        },
        "id": "AZNE8BllFpBe",
        "outputId": "3085ef2a-0191-4936-ea1c-97024978fd0e"
      },
      "execution_count": null,
      "outputs": [
        {
          "output_type": "stream",
          "name": "stdout",
          "text": [
            "[20, 33, 15, 74, 45, 45, 45]\n"
          ]
        }
      ]
    },
    {
      "cell_type": "code",
      "source": [
        "# Otras funciones importantes para las listas\n",
        "\n",
        "suma = sum(edades)\n",
        "print(suma)\n",
        "\n",
        "maximo = max(edades)\n",
        "print(maximo)\n",
        "\n",
        "minimo = min(edades)\n",
        "print(minimo)\n",
        "\n",
        "conteo = edades.count(45)\n",
        "print(conteo)\n",
        "\n",
        "busqueda = edades.index(45)\n",
        "print(busqueda)"
      ],
      "metadata": {
        "colab": {
          "base_uri": "https://localhost:8080/"
        },
        "id": "zHbk0GiTFlsd",
        "outputId": "95bef138-078a-440b-a28e-49594873065d"
      },
      "execution_count": null,
      "outputs": [
        {
          "output_type": "stream",
          "name": "stdout",
          "text": [
            "277\n",
            "74\n",
            "15\n",
            "3\n",
            "4\n"
          ]
        }
      ]
    },
    {
      "cell_type": "code",
      "source": [
        "print(edades)"
      ],
      "metadata": {
        "colab": {
          "base_uri": "https://localhost:8080/"
        },
        "id": "YmGoXDgyHb4D",
        "outputId": "bf2493a8-e479-4fde-81de-15733e2b6b85"
      },
      "execution_count": null,
      "outputs": [
        {
          "output_type": "stream",
          "name": "stdout",
          "text": [
            "[20, 33, 15, 74, 45, 45, 45]\n"
          ]
        }
      ]
    },
    {
      "cell_type": "code",
      "source": [
        "edades.sort()\n",
        "print(edades)"
      ],
      "metadata": {
        "colab": {
          "base_uri": "https://localhost:8080/"
        },
        "id": "04Y9sDlKHts5",
        "outputId": "4292614a-b762-4697-8492-ffa2260e6725"
      },
      "execution_count": null,
      "outputs": [
        {
          "output_type": "stream",
          "name": "stdout",
          "text": [
            "[15, 20, 33, 45, 45, 45, 74]\n"
          ]
        }
      ]
    },
    {
      "cell_type": "code",
      "source": [
        "edades_copy = edades.copy()\n",
        "edades_copy.sort()\n",
        "print(edades_copy, edades)"
      ],
      "metadata": {
        "colab": {
          "base_uri": "https://localhost:8080/"
        },
        "id": "MvVzt-auHw1S",
        "outputId": "f446be34-d60c-4390-af1b-eb16bad1017d"
      },
      "execution_count": null,
      "outputs": [
        {
          "output_type": "stream",
          "name": "stdout",
          "text": [
            "[15, 20, 33, 74] [20, 33, 15, 74]\n"
          ]
        }
      ]
    },
    {
      "cell_type": "code",
      "source": [
        "print(ord('h'))"
      ],
      "metadata": {
        "colab": {
          "base_uri": "https://localhost:8080/"
        },
        "id": "R3xL_rDJIO-C",
        "outputId": "9e02e75d-f5df-418e-dec6-22f5f65e798c"
      },
      "execution_count": null,
      "outputs": [
        {
          "output_type": "stream",
          "name": "stdout",
          "text": [
            "104\n"
          ]
        }
      ]
    },
    {
      "cell_type": "code",
      "source": [
        "texto = 'cosa'\n",
        "lista_texto = list(texto)\n",
        "print(lista_texto)"
      ],
      "metadata": {
        "colab": {
          "base_uri": "https://localhost:8080/"
        },
        "id": "W1syLgOSIopx",
        "outputId": "8cd6b77d-3a0f-4cf7-d84f-208639d114d8"
      },
      "execution_count": null,
      "outputs": [
        {
          "output_type": "stream",
          "name": "stdout",
          "text": [
            "['c', 'o', 's', 'a']\n"
          ]
        }
      ]
    },
    {
      "cell_type": "markdown",
      "source": [
        "# Tuplas:\n",
        "\n",
        "Son colecciones de datos ordenadas bajo un índice pero que son inmutables(no se puede agregar, eliminar o modificar sus elementos). Además, sus elementos se separan por comas y se encierran entre ().\n"
      ],
      "metadata": {
        "id": "W0OaRw9bPMuS"
      }
    },
    {
      "cell_type": "code",
      "source": [
        "tupla = (10,20,30,30,30,30,30,[1,2,3,[-1,-2,-3]])\n",
        "print(tupla)\n",
        "print(type(tupla))"
      ],
      "metadata": {
        "colab": {
          "base_uri": "https://localhost:8080/"
        },
        "id": "qnpu9WaZPMG7",
        "outputId": "4c3196dc-ddd0-402a-b5d9-3d5f18e65cd6"
      },
      "execution_count": null,
      "outputs": [
        {
          "output_type": "stream",
          "name": "stdout",
          "text": [
            "(10, 20, 30, 30, 30, 30, 30, [1, 2, 3, [-1, -2, -3]])\n",
            "<class 'tuple'>\n"
          ]
        }
      ]
    },
    {
      "cell_type": "code",
      "source": [
        "# Para poder acceder a sus difentes elementos aplicamos la misma lógica de las listas\n",
        "print(tupla[0])\n",
        "print(tupla[-1])\n",
        "print(tupla[0:2])\n",
        "print(tupla[-1][-1][-1])"
      ],
      "metadata": {
        "colab": {
          "base_uri": "https://localhost:8080/"
        },
        "id": "SOFAXWypPnw7",
        "outputId": "92f66e5b-6379-44a5-e611-c2bc2317492b"
      },
      "execution_count": null,
      "outputs": [
        {
          "output_type": "stream",
          "name": "stdout",
          "text": [
            "10\n",
            "[1, 2, 3, [-1, -2, -3]]\n",
            "(10, 20)\n",
            "-3\n"
          ]
        }
      ]
    },
    {
      "cell_type": "code",
      "source": [
        "# Solo tenemos la posibilidad de contar y hacer búsquedas, pero no tenemos herramientas para agregar o quitar elementos\n",
        "conteo = tupla.count(30)\n",
        "print(conteo)\n",
        "\n",
        "busqueda = tupla.index(20)\n",
        "print(busqueda)"
      ],
      "metadata": {
        "colab": {
          "base_uri": "https://localhost:8080/"
        },
        "id": "5-XPKVyzPw9y",
        "outputId": "93b846c4-8bee-4853-be7b-ced0a3626469"
      },
      "execution_count": null,
      "outputs": [
        {
          "output_type": "stream",
          "name": "stdout",
          "text": [
            "5\n",
            "1\n"
          ]
        }
      ]
    },
    {
      "cell_type": "code",
      "source": [
        "tupla[1] = 300 # No se puede modificar un valor"
      ],
      "metadata": {
        "colab": {
          "base_uri": "https://localhost:8080/",
          "height": 141
        },
        "id": "fWUSUxISQJYi",
        "outputId": "def0a5fe-3ba0-417d-d51d-85d13f83dbf6"
      },
      "execution_count": null,
      "outputs": [
        {
          "output_type": "error",
          "ename": "TypeError",
          "evalue": "'tuple' object does not support item assignment",
          "traceback": [
            "\u001b[0;31m---------------------------------------------------------------------------\u001b[0m",
            "\u001b[0;31mTypeError\u001b[0m                                 Traceback (most recent call last)",
            "\u001b[0;32m<ipython-input-84-e80f63c7d6cb>\u001b[0m in \u001b[0;36m<cell line: 0>\u001b[0;34m()\u001b[0m\n\u001b[0;32m----> 1\u001b[0;31m \u001b[0mtupla\u001b[0m\u001b[0;34m[\u001b[0m\u001b[0;36m1\u001b[0m\u001b[0;34m]\u001b[0m \u001b[0;34m=\u001b[0m \u001b[0;36m300\u001b[0m\u001b[0;34m\u001b[0m\u001b[0;34m\u001b[0m\u001b[0m\n\u001b[0m",
            "\u001b[0;31mTypeError\u001b[0m: 'tuple' object does not support item assignment"
          ]
        }
      ]
    },
    {
      "cell_type": "markdown",
      "source": [
        "Si al final no puedo manipular una tupla...¿Para qué las debo usar?¿Cúales son las razones para que estas existan?\n",
        "\n",
        "\n",
        "1. Si tenemos datos que nunca deben variar lo ideal es guardar estos en una tupla. Ejemplo: dias de la semana, meses del año.\n",
        "\n",
        "tupla = ('lunes','martes','miercoles' ,.....,'domingo')\n",
        "\n",
        "2. En algunas situaciones Python nos retorna información en formato de tupla."
      ],
      "metadata": {
        "id": "VDpuZz1FQ989"
      }
    },
    {
      "cell_type": "code",
      "source": [
        "# Tipo 1 de for\n",
        "for i in range(5):\n",
        "  print(i)"
      ],
      "metadata": {
        "colab": {
          "base_uri": "https://localhost:8080/"
        },
        "id": "fvLgcuYuQQcd",
        "outputId": "a505aff8-c75d-4f0e-992c-553b43a2de89"
      },
      "execution_count": null,
      "outputs": [
        {
          "output_type": "stream",
          "name": "stdout",
          "text": [
            "0\n",
            "1\n",
            "2\n",
            "3\n",
            "4\n"
          ]
        }
      ]
    },
    {
      "cell_type": "code",
      "source": [
        "# Tipo 2 de for\n",
        "lista = [10,20,30,40]\n",
        "lista2=[]\n",
        "for elemento in lista: # elemento es un FOTOCOPIA de cada uno de los valores que se almacenan en la lista\n",
        "  # print(elemento)\n",
        "  elemento += 1\n",
        "  lista2.append(elemento)\n",
        "  print(elemento)\n",
        "print(lista)\n",
        "print(lista2)"
      ],
      "metadata": {
        "colab": {
          "base_uri": "https://localhost:8080/"
        },
        "id": "6YelG_pSSSBj",
        "outputId": "99087982-a5f3-402b-c39a-1c7129ce6238"
      },
      "execution_count": 4,
      "outputs": [
        {
          "output_type": "stream",
          "name": "stdout",
          "text": [
            "11\n",
            "21\n",
            "31\n",
            "41\n",
            "[10, 20, 30, 40]\n",
            "[11, 21, 31, 41]\n"
          ]
        }
      ]
    },
    {
      "cell_type": "code",
      "source": [
        "for i in range(len(lista)):\n",
        "  lista[i] += 1\n",
        "  print(i, lista[i])\n",
        "print(lista)"
      ],
      "metadata": {
        "colab": {
          "base_uri": "https://localhost:8080/"
        },
        "id": "9_qespR_SZor",
        "outputId": "0a0e2de1-da3f-40c4-de3c-92cdae0b2a8b"
      },
      "execution_count": null,
      "outputs": [
        {
          "output_type": "stream",
          "name": "stdout",
          "text": [
            "0 11\n",
            "1 21\n",
            "2 31\n",
            "3 41\n",
            "[11, 21, 31, 41]\n"
          ]
        }
      ]
    },
    {
      "cell_type": "code",
      "source": [
        "# Tipo 3 de for\n",
        "lista = [10,20,30,40]\n",
        "for cosa in enumerate(lista):\n",
        "  print(cosa, type(cosa))"
      ],
      "metadata": {
        "colab": {
          "base_uri": "https://localhost:8080/"
        },
        "id": "HtqU8NuoS8eW",
        "outputId": "42bf78bf-0649-4d1a-cf4a-f604db27b1db"
      },
      "execution_count": null,
      "outputs": [
        {
          "output_type": "stream",
          "name": "stdout",
          "text": [
            "(0, 10) <class 'tuple'>\n",
            "(1, 20) <class 'tuple'>\n",
            "(2, 30) <class 'tuple'>\n",
            "(3, 40) <class 'tuple'>\n"
          ]
        }
      ]
    },
    {
      "cell_type": "code",
      "source": [
        "lista = [10,20,30,40]\n",
        "for indice, valor in enumerate(lista):\n",
        "  print(indice, valor, type(indice), type(valor))"
      ],
      "metadata": {
        "colab": {
          "base_uri": "https://localhost:8080/"
        },
        "id": "n382Oh2eTYFX",
        "outputId": "20934fdc-ff0b-44e9-c23c-b04e2ea51e9b"
      },
      "execution_count": null,
      "outputs": [
        {
          "output_type": "stream",
          "name": "stdout",
          "text": [
            "0 10 <class 'int'> <class 'int'>\n",
            "1 20 <class 'int'> <class 'int'>\n",
            "2 30 <class 'int'> <class 'int'>\n",
            "3 40 <class 'int'> <class 'int'>\n"
          ]
        }
      ]
    },
    {
      "cell_type": "code",
      "source": [
        "lista = [10,20,30,40]\n",
        "for tupla in enumerate(lista):\n",
        "  tupla = list(tupla)\n",
        "  print(tupla, type(tupla))"
      ],
      "metadata": {
        "colab": {
          "base_uri": "https://localhost:8080/"
        },
        "id": "Jgoj6AskTy8j",
        "outputId": "fd7e47b8-b554-4af0-de0c-ff28364e10d7"
      },
      "execution_count": null,
      "outputs": [
        {
          "output_type": "stream",
          "name": "stdout",
          "text": [
            "[0, 10] <class 'list'>\n",
            "[1, 20] <class 'list'>\n",
            "[2, 30] <class 'list'>\n",
            "[3, 40] <class 'list'>\n"
          ]
        }
      ]
    },
    {
      "cell_type": "code",
      "source": [
        "# Tipo 4 de for\n",
        "lista_a = [10,20,30]\n",
        "lista_b = ['a','b','c']\n",
        "tupla_c = (True, False, True)\n",
        "for tupla in zip(lista_a,lista_b,tupla_c):\n",
        "  print(tupla)"
      ],
      "metadata": {
        "colab": {
          "base_uri": "https://localhost:8080/"
        },
        "id": "hgIv_N0sT_Eh",
        "outputId": "60d0c165-581e-4eeb-9070-42806770ba56"
      },
      "execution_count": null,
      "outputs": [
        {
          "output_type": "stream",
          "name": "stdout",
          "text": [
            "(10, 'a', True)\n",
            "(20, 'b', False)\n",
            "(30, 'c', True)\n"
          ]
        }
      ]
    },
    {
      "cell_type": "code",
      "source": [
        "lista_a = [10,20,30,40]\n",
        "lista_b = ['a','b','c']\n",
        "tupla_c = (True, False, True)\n",
        "for a,b,c in zip(lista_a,lista_b,tupla_c):\n",
        "  print(a,b,c)"
      ],
      "metadata": {
        "colab": {
          "base_uri": "https://localhost:8080/"
        },
        "id": "VSZKjEQSUzOq",
        "outputId": "c29ba082-aa88-4408-803a-8e69a6b6867f"
      },
      "execution_count": null,
      "outputs": [
        {
          "output_type": "stream",
          "name": "stdout",
          "text": [
            "10 a True\n",
            "20 b False\n",
            "30 c True\n"
          ]
        }
      ]
    },
    {
      "cell_type": "code",
      "source": [
        "tupla = (300,400,500)\n",
        "print(tupla)\n",
        "tupla_a_lista = list(tupla)\n",
        "print(tupla_a_lista)\n",
        "tupla_a_lista[1] = 'texto'\n",
        "print(tupla_a_lista)\n",
        "lista_a_tupla = tuple(tupla_a_lista)\n",
        "print(lista_a_tupla)"
      ],
      "metadata": {
        "colab": {
          "base_uri": "https://localhost:8080/"
        },
        "id": "22T6b9kHVN63",
        "outputId": "97391304-074f-4f55-c43c-9c0f523e69d2"
      },
      "execution_count": null,
      "outputs": [
        {
          "output_type": "stream",
          "name": "stdout",
          "text": [
            "(300, 400, 500)\n",
            "[300, 400, 500]\n",
            "[300, 'texto', 500]\n",
            "(300, 'texto', 500)\n"
          ]
        }
      ]
    },
    {
      "cell_type": "markdown",
      "source": [
        "# Diccionarios:\n",
        "\n",
        "Colecciones de datos mutables y que almacenan sus valores según una llave. Sus elementos se separan por comas y se encierran entre llaves. Los diccionarios tienen la peculiaridad de que cada elemento siempre tiene dos cosas -> llave:valor.\n",
        "\n",
        "Para este caso podemos aplicar las mismas acciones que vimos en las listas:\n",
        "\n",
        "- Crearlas\n",
        "- Mostrar un valor específico\n",
        "- Modificar un valor específico\n",
        "- Agregar elementos\n",
        "- Eliminar elementos\n",
        "- Hacer uso de las funcionalidades que ya traen los diccionarios."
      ],
      "metadata": {
        "id": "y7xaTjAtWgKA"
      }
    },
    {
      "cell_type": "code",
      "source": [
        "# Crear diccionarios\n",
        "datos = {\n",
        "    'nombre':'santiago',\n",
        "    'edad':29,\n",
        "    'libros':['Fuego y Sangre','Dune','Harry Potter']\n",
        "  }\n",
        "print(datos, type(datos))"
      ],
      "metadata": {
        "colab": {
          "base_uri": "https://localhost:8080/"
        },
        "id": "71gD3mgiVxdI",
        "outputId": "98d6a2dd-7788-4a15-b694-3703d4a97f46"
      },
      "execution_count": 17,
      "outputs": [
        {
          "output_type": "stream",
          "name": "stdout",
          "text": [
            "{'nombre': 'santiago', 'edad': 29, 'libros': ['Fuego y Sangre', 'Dune', 'Harry Potter']} <class 'dict'>\n"
          ]
        }
      ]
    },
    {
      "cell_type": "code",
      "source": [
        "yo={\n",
        "    \"Nombre\":\"Valentin\",\n",
        "    \"Apellido\":\"Moreno\",\n",
        "    \"Edad\":25,\n",
        "    \"Mascota\":\"Gato\",\n",
        "    \"libros\":['Fuego y Sangre','Dune','Harry Potter']\n",
        "}\n",
        "print(yo)\n",
        "#ubicar datos\n",
        "print(yo[\"Nombre\"])\n",
        "print(yo[\"libros\"][1])\n",
        "#modificar\n",
        "yo['Edad']=24\n",
        "#agregar\n",
        "yo[\"Profesion\"]=\"Ingeniero\"\n",
        "print(yo)"
      ],
      "metadata": {
        "colab": {
          "base_uri": "https://localhost:8080/"
        },
        "id": "HvnzjL-vucwz",
        "outputId": "44f8e72e-1d47-4a3f-a916-f965243dec95"
      },
      "execution_count": 15,
      "outputs": [
        {
          "output_type": "stream",
          "name": "stdout",
          "text": [
            "{'Nombre': 'Valentin', 'Apellido': 'Moreno', 'Edad': 25, 'Mascota': 'Gato', 'libros': ['Fuego y Sangre', 'Dune', 'Harry Potter']}\n",
            "Valentin\n",
            "Dune\n",
            "{'Nombre': 'Valentin', 'Apellido': 'Moreno', 'Edad': 24, 'Mascota': 'Gato', 'libros': ['Fuego y Sangre', 'Dune', 'Harry Potter'], 'Profesion': 'Ingeniero'}\n"
          ]
        }
      ]
    },
    {
      "cell_type": "code",
      "source": [
        "# Acceder a sus valores (puede generar error si no existe la llave)\n",
        "print(datos['libros'][-1])\n",
        "print(datos['edad'])"
      ],
      "metadata": {
        "colab": {
          "base_uri": "https://localhost:8080/"
        },
        "id": "feEBD48tX0Qj",
        "outputId": "79eb0817-46bb-4a19-8781-6244615487d8"
      },
      "execution_count": null,
      "outputs": [
        {
          "output_type": "stream",
          "name": "stdout",
          "text": [
            "Harry Potter\n",
            "29\n"
          ]
        }
      ]
    },
    {
      "cell_type": "code",
      "source": [
        "# ¿Qué sucede si tratamos de acceder a una llave que no existe?\n",
        "# print(datos['EPS']) # Esto genera error\n",
        "# Acceder a sus valores (no genera error si no existe la llave)\n",
        "print(datos.get('EPS'))\n",
        "print(datos.get('EPS','No existe'))"
      ],
      "metadata": {
        "colab": {
          "base_uri": "https://localhost:8080/"
        },
        "id": "KQr8EdcpYeMz",
        "outputId": "3a3fca62-9c8a-4a7d-a4b4-fdc52f1844ee"
      },
      "execution_count": null,
      "outputs": [
        {
          "output_type": "stream",
          "name": "stdout",
          "text": [
            "None\n",
            "No existe\n"
          ]
        }
      ]
    },
    {
      "cell_type": "code",
      "source": [
        "# Modificar un valor en particular: diccionario[llave] = nuevo_valor\n",
        "\n",
        "datos['edad'] = datos['edad'] + 1\n",
        "print(datos)"
      ],
      "metadata": {
        "colab": {
          "base_uri": "https://localhost:8080/"
        },
        "id": "JugAhKOXY50W",
        "outputId": "b0e6d8bd-e797-4b74-9fd4-044101e7166f"
      },
      "execution_count": null,
      "outputs": [
        {
          "output_type": "stream",
          "name": "stdout",
          "text": [
            "{'nombre': 'santiago', 'edad': 30, 'libros': ['Fuego y Sangre', 'Dune', 'Harry Potter']}\n"
          ]
        }
      ]
    },
    {
      "cell_type": "code",
      "source": [
        "# Agregar un elemento en el diccionario se usa la misma sintaxis que para modificar uno de estos\n",
        "\n",
        "datos['profesion'] = \"astronauta\"\n",
        "print(datos)"
      ],
      "metadata": {
        "id": "heiPvRGLa3eY",
        "colab": {
          "base_uri": "https://localhost:8080/"
        },
        "outputId": "63af5d67-39e5-4743-9a7b-f6a30122df6b"
      },
      "execution_count": 20,
      "outputs": [
        {
          "output_type": "stream",
          "name": "stdout",
          "text": [
            "{'nombre': 'santiago', 'edad': 29, 'libros': ['Fuego y Sangre', 'Dune', 'Harry Potter'], 'profesion': 'astronauta'}\n"
          ]
        }
      ]
    },
    {
      "cell_type": "code",
      "source": [
        "llaves = ['nombre','edad']\n",
        "valores = ['santiago',29]\n",
        "diccionario = {}\n",
        "# for llave, valor in zip(llaves, valores):\n",
        "#   print(llave, valor)\n",
        "#   diccionario[llave] = valor\n",
        "for tupla in zip(llaves, valores):\n",
        "  # print(llave, valor)\n",
        "  diccionario[tupla[0]] = tupla[1]\n",
        "print(diccionario)"
      ],
      "metadata": {
        "colab": {
          "base_uri": "https://localhost:8080/"
        },
        "id": "Xh8vgu5r1ZtN",
        "outputId": "2ec17a12-bb0d-468f-fd1b-31d490f018c0"
      },
      "execution_count": null,
      "outputs": [
        {
          "output_type": "stream",
          "name": "stdout",
          "text": [
            "{'nombre': 'santiago', 'edad': 29}\n"
          ]
        }
      ]
    },
    {
      "cell_type": "code",
      "source": [
        "# Para eliminar un elemento usamos el mismo comando que las listas: pop\n",
        "print(datos)\n",
        "x = datos.pop('profesion')\n",
        "print(x, datos)"
      ],
      "metadata": {
        "colab": {
          "base_uri": "https://localhost:8080/"
        },
        "id": "MXz4pNuP11jT",
        "outputId": "c0808d64-ee97-4c98-b8ed-c0537d9085c4"
      },
      "execution_count": 21,
      "outputs": [
        {
          "output_type": "stream",
          "name": "stdout",
          "text": [
            "{'nombre': 'santiago', 'edad': 29, 'libros': ['Fuego y Sangre', 'Dune', 'Harry Potter'], 'profesion': 'astronauta'}\n",
            "astronauta {'nombre': 'santiago', 'edad': 29, 'libros': ['Fuego y Sangre', 'Dune', 'Harry Potter']}\n"
          ]
        }
      ]
    },
    {
      "cell_type": "code",
      "source": [
        "datos.pop('profesion')\n",
        "print(datos)"
      ],
      "metadata": {
        "colab": {
          "base_uri": "https://localhost:8080/",
          "height": 165
        },
        "id": "Z8bUCGbp2gnu",
        "outputId": "83975a9d-9110-41f0-d6bd-118234fe9ba8"
      },
      "execution_count": 22,
      "outputs": [
        {
          "output_type": "error",
          "ename": "KeyError",
          "evalue": "'profesion'",
          "traceback": [
            "\u001b[0;31m---------------------------------------------------------------------------\u001b[0m",
            "\u001b[0;31mKeyError\u001b[0m                                  Traceback (most recent call last)",
            "\u001b[0;32m<ipython-input-22-445f00e26098>\u001b[0m in \u001b[0;36m<cell line: 0>\u001b[0;34m()\u001b[0m\n\u001b[0;32m----> 1\u001b[0;31m \u001b[0mdatos\u001b[0m\u001b[0;34m.\u001b[0m\u001b[0mpop\u001b[0m\u001b[0;34m(\u001b[0m\u001b[0;34m'profesion'\u001b[0m\u001b[0;34m)\u001b[0m\u001b[0;34m\u001b[0m\u001b[0;34m\u001b[0m\u001b[0m\n\u001b[0m\u001b[1;32m      2\u001b[0m \u001b[0mprint\u001b[0m\u001b[0;34m(\u001b[0m\u001b[0mdatos\u001b[0m\u001b[0;34m)\u001b[0m\u001b[0;34m\u001b[0m\u001b[0;34m\u001b[0m\u001b[0m\n",
            "\u001b[0;31mKeyError\u001b[0m: 'profesion'"
          ]
        }
      ]
    },
    {
      "cell_type": "code",
      "source": [
        "x = datos.pop('nombre')\n",
        "datos['nombre_completo'] = x\n",
        "print(x, datos)"
      ],
      "metadata": {
        "colab": {
          "base_uri": "https://localhost:8080/",
          "height": 183
        },
        "id": "NszH63cI22RC",
        "outputId": "cd59c499-1216-401e-c2ce-92d27913b3e4"
      },
      "execution_count": 26,
      "outputs": [
        {
          "output_type": "error",
          "ename": "KeyError",
          "evalue": "'nombre'",
          "traceback": [
            "\u001b[0;31m---------------------------------------------------------------------------\u001b[0m",
            "\u001b[0;31mKeyError\u001b[0m                                  Traceback (most recent call last)",
            "\u001b[0;32m<ipython-input-26-7147002ca3a4>\u001b[0m in \u001b[0;36m<cell line: 0>\u001b[0;34m()\u001b[0m\n\u001b[0;32m----> 1\u001b[0;31m \u001b[0mx\u001b[0m \u001b[0;34m=\u001b[0m \u001b[0mdatos\u001b[0m\u001b[0;34m.\u001b[0m\u001b[0mpop\u001b[0m\u001b[0;34m(\u001b[0m\u001b[0;34m'nombre'\u001b[0m\u001b[0;34m)\u001b[0m\u001b[0;34m\u001b[0m\u001b[0;34m\u001b[0m\u001b[0m\n\u001b[0m\u001b[1;32m      2\u001b[0m \u001b[0mdatos\u001b[0m\u001b[0;34m[\u001b[0m\u001b[0;34m'nombre_completo'\u001b[0m\u001b[0;34m]\u001b[0m \u001b[0;34m=\u001b[0m \u001b[0mx\u001b[0m\u001b[0;34m\u001b[0m\u001b[0;34m\u001b[0m\u001b[0m\n\u001b[1;32m      3\u001b[0m \u001b[0mprint\u001b[0m\u001b[0;34m(\u001b[0m\u001b[0mx\u001b[0m\u001b[0;34m,\u001b[0m \u001b[0mdatos\u001b[0m\u001b[0;34m)\u001b[0m\u001b[0;34m\u001b[0m\u001b[0;34m\u001b[0m\u001b[0m\n",
            "\u001b[0;31mKeyError\u001b[0m: 'nombre'"
          ]
        }
      ]
    },
    {
      "cell_type": "code",
      "source": [
        "# Funcionalidades\n",
        "\n",
        "cantidad_elementos = len(datos)\n",
        "print(cantidad_elementos)\n",
        "\n",
        "llaves = list(datos.keys())\n",
        "print(llaves)\n",
        "valores = list(datos.values())\n",
        "print(valores)"
      ],
      "metadata": {
        "colab": {
          "base_uri": "https://localhost:8080/"
        },
        "id": "ylNBtkSV3Y3X",
        "outputId": "9c0ad7a5-c049-4b3b-b341-0597558aca7b"
      },
      "execution_count": null,
      "outputs": [
        {
          "output_type": "stream",
          "name": "stdout",
          "text": [
            "3\n",
            "['edad', 'libros', 'nombre_completo']\n",
            "[30, ['Fuego y Sangre', 'Dune', 'Harry Potter'], 'santiago']\n"
          ]
        }
      ]
    },
    {
      "cell_type": "code",
      "source": [
        "# for elemento in datos:\n",
        "#   print(elemento)\n",
        "# El anterior solo devuelve la llave del diccionario\n",
        "\n",
        "# for key, value in datos.items():\n",
        "#   print(key, value)\n",
        "# El anterior devuelve la llave y el valor en cada iteracion\n",
        "\n",
        "for cosa in datos.items():\n",
        "  print(cosa)\n",
        "# El anterior devuelve en cada iteracion una tupla con la llave y el valor\n"
      ],
      "metadata": {
        "colab": {
          "base_uri": "https://localhost:8080/"
        },
        "id": "bFAnb4mY333R",
        "outputId": "4f915f56-cf1e-4834-a7f9-2694bd4a264f"
      },
      "execution_count": null,
      "outputs": [
        {
          "output_type": "stream",
          "name": "stdout",
          "text": [
            "('edad', 30)\n",
            "('libros', ['Fuego y Sangre', 'Dune', 'Harry Potter'])\n",
            "('nombre_completo', 'santiago')\n"
          ]
        }
      ]
    },
    {
      "cell_type": "code",
      "source": [
        "datos_copia = datos.copy()\n",
        "print(datos_copia)\n",
        "\n",
        "datos.clear()\n",
        "print(datos)"
      ],
      "metadata": {
        "colab": {
          "base_uri": "https://localhost:8080/"
        },
        "id": "iMYi0Ol25fzR",
        "outputId": "1312b707-614c-42a3-aef8-49994c612f43"
      },
      "execution_count": null,
      "outputs": [
        {
          "output_type": "stream",
          "name": "stdout",
          "text": [
            "{'edad': 30, 'libros': ['Fuego y Sangre', 'Dune', 'Harry Potter'], 'nombre_completo': 'santiago', 'altura': 1.75}\n",
            "{}\n"
          ]
        }
      ]
    },
    {
      "cell_type": "code",
      "source": [
        "datos.setdefault('altura',1.75)\n",
        "print(datos)"
      ],
      "metadata": {
        "colab": {
          "base_uri": "https://localhost:8080/"
        },
        "id": "MW54ybRl4gBa",
        "outputId": "7a6b3c5c-566f-41eb-a4ef-47f9b609d3d4"
      },
      "execution_count": 27,
      "outputs": [
        {
          "output_type": "stream",
          "name": "stdout",
          "text": [
            "{'edad': 29, 'libros': ['Fuego y Sangre', 'Dune', 'Harry Potter'], 'nombre_completo': 'santiago', 'altura': 1.75}\n"
          ]
        }
      ]
    },
    {
      "cell_type": "code",
      "source": [
        "#Aqui se esta haciendo una lista de diccionarios\n",
        "lista = []\n",
        "p1 = {'nombre':'raul','edad':40}\n",
        "p2 = {'nombre':'alejandra','edad':22}\n",
        "p3 = {'nombre':'sebastian','edad':59}\n",
        "lista.append(p1)\n",
        "lista.append(p2)\n",
        "lista.append(p3)\n",
        "print(lista)"
      ],
      "metadata": {
        "colab": {
          "base_uri": "https://localhost:8080/"
        },
        "id": "IjxUTF0G5bNu",
        "outputId": "3297185d-c14f-436c-bce9-6bc393c0678c"
      },
      "execution_count": 28,
      "outputs": [
        {
          "output_type": "stream",
          "name": "stdout",
          "text": [
            "[{'nombre': 'raul', 'edad': 40}, {'nombre': 'alejandra', 'edad': 22}, {'nombre': 'sebastian', 'edad': 59}]\n"
          ]
        }
      ]
    },
    {
      "cell_type": "code",
      "source": [
        "#se miran los elementos de igual manera\n",
        "print(lista[1])\n",
        "print(lista[2]['edad'])\n",
        "print(lista[0][\"nombre\"])"
      ],
      "metadata": {
        "colab": {
          "base_uri": "https://localhost:8080/"
        },
        "id": "JbYJqgfK6MQo",
        "outputId": "85ac4cb9-ac28-4ba7-a53b-4c1cee807f17"
      },
      "execution_count": 30,
      "outputs": [
        {
          "output_type": "stream",
          "name": "stdout",
          "text": [
            "{'nombre': 'alejandra', 'edad': 22}\n",
            "59\n",
            "raul\n"
          ]
        }
      ]
    },
    {
      "cell_type": "code",
      "source": [
        "#Para mdofificar en lista un dict se pone la pos en en la lista y la key lista[pos][key]=valor a cambiar\n",
        "lista[1]['edad'] += 1\n",
        "lista[0]['edad'] = 45\n",
        "print(lista[0],lista[1])"
      ],
      "metadata": {
        "colab": {
          "base_uri": "https://localhost:8080/"
        },
        "id": "qOvfF2P96Th4",
        "outputId": "e309797e-004b-47ac-abe7-b687a92067f7"
      },
      "execution_count": 31,
      "outputs": [
        {
          "output_type": "stream",
          "name": "stdout",
          "text": [
            "{'nombre': 'raul', 'edad': 45} {'nombre': 'alejandra', 'edad': 23}\n"
          ]
        }
      ]
    },
    {
      "cell_type": "code",
      "source": [
        "#Recorre la lista imprimiendo las edades en los diccionarios\n",
        "for elemento in lista:\n",
        "  print(elemento['edad'])\n",
        "  if elemento['edad'] % 2 == 0:\n",
        "    print(\"Es par\")"
      ],
      "metadata": {
        "colab": {
          "base_uri": "https://localhost:8080/"
        },
        "id": "YIgI9uzx6kMI",
        "outputId": "fe2eef71-0c4b-4977-f8f9-04dc8d681681"
      },
      "execution_count": 32,
      "outputs": [
        {
          "output_type": "stream",
          "name": "stdout",
          "text": [
            "45\n",
            "23\n",
            "59\n"
          ]
        }
      ]
    },
    {
      "cell_type": "markdown",
      "source": [
        "# Conjuntos:\n",
        "\n",
        "Son colecciones de datos que no están ordenadas por ningún mecanismo ni tampoco permite modificar un valor, permite agregar o quitar elementos. Su valores se separan por comas y se encierren entre {}.\n",
        "\n",
        "Los conjuntos no permiten valores duplicados.\n",
        "\n",
        "Las acciones más relevantes son:\n",
        "\n",
        "- Crear\n",
        "- Agregar\n",
        "- Quitar\n",
        "- Operaciones de conjuntos"
      ],
      "metadata": {
        "id": "EIDz4Dpa8SY5"
      }
    },
    {
      "cell_type": "code",
      "source": [
        "\n",
        "conjunto = {1,2,2,2,2,2,2,2,2,2,2,2,3}\n",
        "print(conjunto, type(conjunto))"
      ],
      "metadata": {
        "colab": {
          "base_uri": "https://localhost:8080/"
        },
        "id": "julciaGy6yey",
        "outputId": "3d6ef011-1fd5-486c-9e46-22e6a2cae95f"
      },
      "execution_count": 33,
      "outputs": [
        {
          "output_type": "stream",
          "name": "stdout",
          "text": [
            "{1, 2, 3} <class 'set'>\n"
          ]
        }
      ]
    },
    {
      "cell_type": "code",
      "source": [
        "nombres = ['a','b','c','b','c','c']\n",
        "nombres_unicos = set(nombres)\n",
        "print(nombres_unicos)\n",
        "nombres_unicos = list(nombres_unicos)\n",
        "print(nombres_unicos)"
      ],
      "metadata": {
        "colab": {
          "base_uri": "https://localhost:8080/"
        },
        "id": "Y5lbHg9K8nYF",
        "outputId": "86d4f812-d1ad-4274-ee5c-1b048b3a5f47"
      },
      "execution_count": null,
      "outputs": [
        {
          "output_type": "stream",
          "name": "stdout",
          "text": [
            "{'b', 'c', 'a'}\n",
            "['b', 'c', 'a']\n"
          ]
        }
      ]
    },
    {
      "cell_type": "code",
      "source": [
        "conjunto.add(1)\n",
        "print(conjunto)\n",
        "conjunto.add(5)\n",
        "print(conjunto)"
      ],
      "metadata": {
        "colab": {
          "base_uri": "https://localhost:8080/"
        },
        "id": "K2SgHYxb9QPW",
        "outputId": "6ba84f63-05f2-4d40-d978-66e04db1516d"
      },
      "execution_count": 34,
      "outputs": [
        {
          "output_type": "stream",
          "name": "stdout",
          "text": [
            "{1, 2, 3}\n",
            "{1, 2, 3, 5}\n"
          ]
        }
      ]
    },
    {
      "cell_type": "code",
      "source": [
        "#genera error remove si no exite el valor\n",
        "conjunto.remove(1)\n",
        "print(conjunto)"
      ],
      "metadata": {
        "colab": {
          "base_uri": "https://localhost:8080/"
        },
        "id": "1crbaTON9310",
        "outputId": "8b6e4184-fcf0-44db-e946-82485f66478a"
      },
      "execution_count": 38,
      "outputs": [
        {
          "output_type": "stream",
          "name": "stdout",
          "text": [
            "{2, 3, 5}\n"
          ]
        }
      ]
    },
    {
      "cell_type": "code",
      "source": [
        "#discard sirve para remover tambien pero no genera error si el elemento no esta\n",
        "conjunto.discard(7)\n",
        "print(conjunto)"
      ],
      "metadata": {
        "colab": {
          "base_uri": "https://localhost:8080/"
        },
        "id": "eQUGCZof5SoU",
        "outputId": "8e330533-61e2-4a47-fbe4-e95d35000c70"
      },
      "execution_count": 40,
      "outputs": [
        {
          "output_type": "stream",
          "name": "stdout",
          "text": [
            "{2, 3, 5}\n"
          ]
        }
      ]
    },
    {
      "cell_type": "code",
      "source": [
        "c1 = {1,2,3,4,5}\n",
        "c2 = {4,5,6,7}\n",
        "#interseccion es decir elementos que se encuentran en ambos conjuntos\n",
        "inter = c1 & c2\n",
        "print(inter)\n",
        "\n",
        "#union se unen los conjuntos recordando de que en set no se repiten elementos\n",
        "union = c1 | c2\n",
        "print(union)\n",
        "\n",
        "#diferencia mostrando solo los elementos que le pertenecen a C1\n",
        "solo_1 = c1 - c2\n",
        "print(solo_1)\n",
        "\n",
        "#diferencia mostrando solo los elementos que le pertenecen a C2\n",
        "solo_2 = c2 - c1\n",
        "print(solo_2)"
      ],
      "metadata": {
        "colab": {
          "base_uri": "https://localhost:8080/"
        },
        "id": "FQ5nxHzp-uDJ",
        "outputId": "1cef1a1f-e44a-4bec-9352-9c85f041c80b"
      },
      "execution_count": null,
      "outputs": [
        {
          "output_type": "stream",
          "name": "stdout",
          "text": [
            "{4, 5}\n",
            "{1, 2, 3, 4, 5, 6, 7}\n",
            "{1, 2, 3}\n",
            "{6, 7}\n"
          ]
        }
      ]
    },
    {
      "cell_type": "markdown",
      "source": [
        "# Textos:\n",
        "\n",
        "De alguna los textos se pueden manipular como si fueran una colección de datos, en el sentido que cuenta con un índice, pero con la diferencia que en un texto solo se puede guardar texto y no otros tipos de datos. Además no puede modificar la posición especifica de un texto."
      ],
      "metadata": {
        "id": "o_jlRyD7Maoe"
      }
    },
    {
      "cell_type": "code",
      "source": [
        "texto = \"Universidad EIA\"\n",
        "print(texto[0])\n",
        "print(texto[-1])\n",
        "print(texto[2:5])"
      ],
      "metadata": {
        "colab": {
          "base_uri": "https://localhost:8080/"
        },
        "id": "rbpoj3EA_VRQ",
        "outputId": "fa73bb98-6f51-45e9-e303-199cc1df3142"
      },
      "execution_count": 44,
      "outputs": [
        {
          "output_type": "stream",
          "name": "stdout",
          "text": [
            "U\n",
            "A\n",
            "ive\n"
          ]
        }
      ]
    },
    {
      "cell_type": "code",
      "source": [
        "#no se puede hacer modificaciones a los textos\n",
        "texto[0] = 'a'"
      ],
      "metadata": {
        "colab": {
          "base_uri": "https://localhost:8080/",
          "height": 165
        },
        "id": "AWyNkWFjMr7f",
        "outputId": "3fe56953-4f0f-4cbb-bf47-f75740fdc3f0"
      },
      "execution_count": 46,
      "outputs": [
        {
          "output_type": "error",
          "ename": "TypeError",
          "evalue": "'str' object does not support item assignment",
          "traceback": [
            "\u001b[0;31m---------------------------------------------------------------------------\u001b[0m",
            "\u001b[0;31mTypeError\u001b[0m                                 Traceback (most recent call last)",
            "\u001b[0;32m<ipython-input-46-ef882ec703b2>\u001b[0m in \u001b[0;36m<cell line: 0>\u001b[0;34m()\u001b[0m\n\u001b[1;32m      1\u001b[0m \u001b[0;31m#no se puede hacer modificaciones a los textos\u001b[0m\u001b[0;34m\u001b[0m\u001b[0;34m\u001b[0m\u001b[0m\n\u001b[0;32m----> 2\u001b[0;31m \u001b[0mtexto\u001b[0m\u001b[0;34m[\u001b[0m\u001b[0;36m0\u001b[0m\u001b[0;34m]\u001b[0m \u001b[0;34m=\u001b[0m \u001b[0;34m'a'\u001b[0m\u001b[0;34m\u001b[0m\u001b[0;34m\u001b[0m\u001b[0m\n\u001b[0m",
            "\u001b[0;31mTypeError\u001b[0m: 'str' object does not support item assignment"
          ]
        }
      ]
    },
    {
      "cell_type": "code",
      "source": [
        "for caracter in texto:\n",
        "  print(caracter)"
      ],
      "metadata": {
        "colab": {
          "base_uri": "https://localhost:8080/"
        },
        "id": "sKzcQZx3M3cQ",
        "outputId": "b0d7572d-e526-4beb-ad43-597a5027cebb"
      },
      "execution_count": 47,
      "outputs": [
        {
          "output_type": "stream",
          "name": "stdout",
          "text": [
            "U\n",
            "n\n",
            "i\n",
            "v\n",
            "e\n",
            "r\n",
            "s\n",
            "i\n",
            "d\n",
            "a\n",
            "d\n",
            " \n",
            "E\n",
            "I\n",
            "A\n"
          ]
        }
      ]
    },
    {
      "cell_type": "code",
      "source": [
        "#Lista que va desde -5 a 9 de 2 en 2\n",
        "lista = list(range(-5,10,2))\n",
        "print(lista)"
      ],
      "metadata": {
        "colab": {
          "base_uri": "https://localhost:8080/"
        },
        "id": "6eRTJFw4M-nx",
        "outputId": "8deada09-8f29-4801-94b9-8e4d0fb0dc03"
      },
      "execution_count": 48,
      "outputs": [
        {
          "output_type": "stream",
          "name": "stdout",
          "text": [
            "[-5, -3, -1, 1, 3, 5, 7, 9]\n"
          ]
        }
      ]
    }
  ]
}