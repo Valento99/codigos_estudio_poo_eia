{
  "nbformat": 4,
  "nbformat_minor": 0,
  "metadata": {
    "colab": {
      "provenance": [],
      "toc_visible": true,
      "include_colab_link": true
    },
    "kernelspec": {
      "name": "python3",
      "display_name": "Python 3"
    },
    "language_info": {
      "name": "python"
    }
  },
  "cells": [
    {
      "cell_type": "markdown",
      "metadata": {
        "id": "view-in-github",
        "colab_type": "text"
      },
      "source": [
        "<a href=\"https://colab.research.google.com/github/Valento99/codigos_estudio_poo_eia/blob/main/Copia_de_2_Estructuras_de_programaci%C3%B3n.ipynb\" target=\"_parent\"><img src=\"https://colab.research.google.com/assets/colab-badge.svg\" alt=\"Open In Colab\"/></a>"
      ]
    },
    {
      "cell_type": "markdown",
      "source": [
        "# Selectiva simple:"
      ],
      "metadata": {
        "id": "MNZbwFgMM-_-"
      }
    },
    {
      "cell_type": "code",
      "execution_count": null,
      "metadata": {
        "colab": {
          "base_uri": "https://localhost:8080/"
        },
        "id": "vfIq1DtHKxCB",
        "outputId": "dd1120c2-4f96-44e3-fd45-b945201afa6d"
      },
      "outputs": [
        {
          "output_type": "stream",
          "name": "stdout",
          "text": [
            "X es positivo\n",
            "Finaliza condicional\n",
            "Finaliza el programa\n"
          ]
        }
      ],
      "source": [
        "x = 10\n",
        "if x>0:\n",
        "  print(\"X es positivo\")\n",
        "  print(\"Finaliza condicional\")\n",
        "print(\"Finaliza el programa\")"
      ]
    },
    {
      "cell_type": "markdown",
      "source": [
        "En el 99% de las veces que en Python escribamos \":\" la siguiente línea de código debe estar indentada(corrida hacia la derecha).\n",
        "\n",
        "La tecla tab nos permite indentar en la posición correcta."
      ],
      "metadata": {
        "id": "u_I-aaj8Nu4I"
      }
    },
    {
      "cell_type": "code",
      "source": [
        "# Ejercicio 1\n",
        "edad = int(input(\"Ingrese una edad: \"))\n",
        "if edad >= 18:\n",
        "  print(f\"La persona es mayor de debido a que cuenta con {edad} años\")"
      ],
      "metadata": {
        "colab": {
          "base_uri": "https://localhost:8080/"
        },
        "id": "qdQ5g4TiP9uY",
        "outputId": "b8b24562-3b2d-4244-b1ce-8d24c331961e"
      },
      "execution_count": null,
      "outputs": [
        {
          "output_type": "stream",
          "name": "stdout",
          "text": [
            "Ingrese una edad: 70\n",
            "La persona es mayor de debido a que cuenta con 70 años\n"
          ]
        }
      ]
    },
    {
      "cell_type": "code",
      "source": [
        "# Ejercicio 2\n",
        "a = float(input(\"Ingrese número a: \"))\n",
        "b = float(input(\"Ingrese número b: \"))\n",
        "if a != 0:\n",
        "  x = -b/a\n",
        "  print(f\"El valor de la x es {x}\")\n",
        "print(\"Finaliza programa\")"
      ],
      "metadata": {
        "colab": {
          "base_uri": "https://localhost:8080/"
        },
        "id": "Vbey0EO1QSWo",
        "outputId": "b4df4bfd-f869-4fe7-f8b6-b9cc1a10d15b"
      },
      "execution_count": null,
      "outputs": [
        {
          "output_type": "stream",
          "name": "stdout",
          "text": [
            "Ingrese número a: 2\n",
            "Ingrese número b: 4\n",
            "El valor de la x es -2.0\n",
            "Finaliza programa\n"
          ]
        }
      ]
    },
    {
      "cell_type": "code",
      "source": [
        "x = 10\n",
        "if x>0:\n",
        "  pass # Se utiliza el comando \"pass\" cuando todavía no queremos agregar expresiones que deben ser indentadas"
      ],
      "metadata": {
        "id": "m-BuO6_dR6GR"
      },
      "execution_count": null,
      "outputs": []
    },
    {
      "cell_type": "markdown",
      "source": [
        "# Selectiva doble:"
      ],
      "metadata": {
        "id": "Hy7npl2hRyMU"
      }
    },
    {
      "cell_type": "code",
      "source": [
        "edad = int(input(\"Ingrese una edad: \"))\n",
        "if edad >= 18:\n",
        "  print(f\"La persona es mayor de debido a que cuenta con {edad} años\")\n",
        "else:\n",
        "  print(f\"La persona es menor de debido a que cuenta con {edad} años\")\n",
        "print(\"Finaliza programa\")"
      ],
      "metadata": {
        "colab": {
          "base_uri": "https://localhost:8080/"
        },
        "id": "-ID0NyiiRWkT",
        "outputId": "584d8472-a2cb-487a-a632-941afaa93d81"
      },
      "execution_count": null,
      "outputs": [
        {
          "output_type": "stream",
          "name": "stdout",
          "text": [
            "Ingrese una edad: 15\n",
            "La persona es menor de debido a que cuenta con 15 años\n",
            "Finaliza programa\n"
          ]
        }
      ]
    },
    {
      "cell_type": "code",
      "source": [
        "# Ejercicio 1\n",
        "precio_producto = float(input(\"Ingrese el precio del producto: \"))\n",
        "if precio_producto>200:\n",
        "  impuesto = 1.29\n",
        "else:\n",
        "  impuesto = 1.19\n",
        "precio_producto_final = precio_producto*impuesto\n",
        "print(f\"Dado el impuesto de {impuesto} el precio final del producto es: {precio_producto_final}\")"
      ],
      "metadata": {
        "colab": {
          "base_uri": "https://localhost:8080/"
        },
        "id": "nyjzA49VTowr",
        "outputId": "ef86798f-9b7a-4900-abb0-feb10c427782"
      },
      "execution_count": null,
      "outputs": [
        {
          "output_type": "stream",
          "name": "stdout",
          "text": [
            "Ingrese el precio del producto: 150\n",
            "Dado el impuesto de 1.19 el precio final del producto es: 178.5\n"
          ]
        }
      ]
    },
    {
      "cell_type": "markdown",
      "source": [
        "# Selectiva anidada:"
      ],
      "metadata": {
        "id": "YsezM-OsVjgO"
      }
    },
    {
      "cell_type": "code",
      "source": [
        "numero = int(input(\"Ingrese un número: \"))\n",
        "if numero == 0:\n",
        "  print(\"Número es igual a cero\")\n",
        "elif numero>0:\n",
        "  print(\"Número es positivo\")\n",
        "else:\n",
        "  print(\"Número es negativo\")\n",
        "print(\"Finaliza programa\")"
      ],
      "metadata": {
        "colab": {
          "base_uri": "https://localhost:8080/"
        },
        "id": "iA9OAUusVJbR",
        "outputId": "75f7c656-9873-4e05-c0c5-0f0439982d47"
      },
      "execution_count": null,
      "outputs": [
        {
          "output_type": "stream",
          "name": "stdout",
          "text": [
            "Ingrese un número: -5\n",
            "Número es negativo\n",
            "Finaliza programa\n"
          ]
        }
      ]
    },
    {
      "cell_type": "code",
      "source": [
        "a = 0\n",
        "b = 10\n",
        "if a == 0:\n",
        "  print(\"1\")\n",
        "  if b>0:\n",
        "    print(\"2\")"
      ],
      "metadata": {
        "colab": {
          "base_uri": "https://localhost:8080/"
        },
        "id": "vZhoT_0bZRvS",
        "outputId": "b9e59a79-3a47-4783-e3d3-2b430ca97af1"
      },
      "execution_count": null,
      "outputs": [
        {
          "output_type": "stream",
          "name": "stdout",
          "text": [
            "1\n",
            "2\n"
          ]
        }
      ]
    },
    {
      "cell_type": "markdown",
      "source": [
        "- Para que exista un else minimamente debe existir un if\n",
        "- Para que exista un elif minimamente debe existir un if\n",
        "- Puede existir la cantidad elif's que sean necesarios"
      ],
      "metadata": {
        "id": "y7yFrmAVYFBy"
      }
    },
    {
      "cell_type": "code",
      "source": [
        "# Conversión de nota cuantitativa a cualitativa\n",
        "nota = float(input(\"Ingrese la nota: \"))\n",
        "\n",
        "if nota > 5 or nota < 0:\n",
        "  print(\"Se ingresa nota no válida\")\n",
        "elif nota >= 4.5:\n",
        "  print(\"Excelente\")\n",
        "elif nota >= 3.8:\n",
        "  print(\"Sobresaliente\")\n",
        "elif nota >= 3:\n",
        "  print(\"Aceptable\")\n",
        "elif nota >= 1.5:\n",
        "  print(\"Insuficiente\")\n",
        "else:\n",
        "  print(\"Deficiente\")"
      ],
      "metadata": {
        "colab": {
          "base_uri": "https://localhost:8080/"
        },
        "id": "2l9Cn1Z9X-pV",
        "outputId": "ec3b8d2a-11b9-4705-888f-28ff6777ba50"
      },
      "execution_count": null,
      "outputs": [
        {
          "output_type": "stream",
          "name": "stdout",
          "text": [
            "Ingrese la nota: 1\n",
            "Deficiente\n"
          ]
        }
      ]
    },
    {
      "cell_type": "markdown",
      "source": [
        "Digamos que quiero imprimir los números de 0 a 4, para esto podríamos hacer algo como:"
      ],
      "metadata": {
        "id": "HyvXRuCaADWW"
      }
    },
    {
      "cell_type": "code",
      "source": [
        "print(0)\n",
        "print(1)\n",
        "print(2)\n",
        "print(3)\n",
        "print(4)"
      ],
      "metadata": {
        "id": "nNE4RgwCcdri",
        "colab": {
          "base_uri": "https://localhost:8080/"
        },
        "outputId": "1017b2a9-72cd-4e40-f5b7-d5d09c39f6d8"
      },
      "execution_count": null,
      "outputs": [
        {
          "output_type": "stream",
          "name": "stdout",
          "text": [
            "0\n",
            "1\n",
            "2\n",
            "3\n",
            "4\n"
          ]
        }
      ]
    },
    {
      "cell_type": "markdown",
      "source": [
        "# Repetitiva indefinida:\n",
        "\n",
        "Para esto usamos la sentencia while, la cual depende una condición."
      ],
      "metadata": {
        "id": "1bqoMsJFBPcP"
      }
    },
    {
      "cell_type": "code",
      "source": [
        "i = 0\n",
        "N = 10\n",
        "while i<N:\n",
        "  print(i)\n",
        "  i+=1 # Esto es lo mismo que: i = i + 1\n",
        "print(\"Finaliza programa\")"
      ],
      "metadata": {
        "colab": {
          "base_uri": "https://localhost:8080/"
        },
        "id": "ekQGThunAKht",
        "outputId": "d014169b-6e7b-4e67-d90b-fd573a8f4820"
      },
      "execution_count": null,
      "outputs": [
        {
          "output_type": "stream",
          "name": "stdout",
          "text": [
            "0\n",
            "1\n",
            "2\n",
            "3\n",
            "4\n",
            "5\n",
            "6\n",
            "7\n",
            "8\n",
            "9\n",
            "Finaliza programa\n"
          ]
        }
      ]
    },
    {
      "cell_type": "markdown",
      "source": [
        "Operadores de asignacion:\n",
        "\n",
        "Es un tipo de operador que permite actualizar el estado de una variable haciendo uso de otro operador aritmetico.\n",
        "\n",
        "\n",
        "i = i + N --> i += N\n",
        "\n",
        "i = i - N --> i -= N\n",
        "\n",
        "i = i * N --> i *= N\n",
        "\n",
        "... Y asi sucesivamente con todos los operadores aritmeticos"
      ],
      "metadata": {
        "id": "tpaaFvvLDlrs"
      }
    },
    {
      "cell_type": "code",
      "source": [
        "# Ejercicio 1\n",
        "N = 500\n",
        "acumulador = 0\n",
        "i = 1\n",
        "while acumulador<N:\n",
        "  acumulador += i\n",
        "  i += 1\n",
        "  print(f\"Acumulador: {acumulador} - i: {i}\")"
      ],
      "metadata": {
        "colab": {
          "base_uri": "https://localhost:8080/"
        },
        "id": "Hx4Zr1_JEkjP",
        "outputId": "9f934925-add5-4f7f-a892-f28aed21af49"
      },
      "execution_count": null,
      "outputs": [
        {
          "output_type": "stream",
          "name": "stdout",
          "text": [
            "Acumulador: 1 - i: 2\n",
            "Acumulador: 3 - i: 3\n",
            "Acumulador: 6 - i: 4\n",
            "Acumulador: 10 - i: 5\n",
            "Acumulador: 15 - i: 6\n",
            "Acumulador: 21 - i: 7\n",
            "Acumulador: 28 - i: 8\n",
            "Acumulador: 36 - i: 9\n",
            "Acumulador: 45 - i: 10\n",
            "Acumulador: 55 - i: 11\n",
            "Acumulador: 66 - i: 12\n",
            "Acumulador: 78 - i: 13\n",
            "Acumulador: 91 - i: 14\n",
            "Acumulador: 105 - i: 15\n",
            "Acumulador: 120 - i: 16\n",
            "Acumulador: 136 - i: 17\n",
            "Acumulador: 153 - i: 18\n",
            "Acumulador: 171 - i: 19\n",
            "Acumulador: 190 - i: 20\n",
            "Acumulador: 210 - i: 21\n",
            "Acumulador: 231 - i: 22\n",
            "Acumulador: 253 - i: 23\n",
            "Acumulador: 276 - i: 24\n",
            "Acumulador: 300 - i: 25\n",
            "Acumulador: 325 - i: 26\n",
            "Acumulador: 351 - i: 27\n",
            "Acumulador: 378 - i: 28\n",
            "Acumulador: 406 - i: 29\n",
            "Acumulador: 435 - i: 30\n",
            "Acumulador: 465 - i: 31\n",
            "Acumulador: 496 - i: 32\n",
            "Acumulador: 528 - i: 33\n"
          ]
        }
      ]
    },
    {
      "cell_type": "code",
      "source": [
        "print(f\"Ultimo valor sumado: {i-1}\")\n",
        "print(f\"Cantidad de sumas: {i-2}\")"
      ],
      "metadata": {
        "colab": {
          "base_uri": "https://localhost:8080/"
        },
        "id": "rBEsJnkVGTsS",
        "outputId": "d38c4336-6a8e-4d34-868f-567b24facd65"
      },
      "execution_count": null,
      "outputs": [
        {
          "output_type": "stream",
          "name": "stdout",
          "text": [
            "Ultimo valor sumado: 32\n",
            "Cantidad de sumas: 31\n"
          ]
        }
      ]
    },
    {
      "cell_type": "code",
      "source": [
        "# Ejercicio 2\n",
        "i = 1\n",
        "N = 1\n",
        "suma = 0\n",
        "while True:\n",
        "  suma += 1/(1+i**2)\n",
        "  i += 1\n",
        "  print(f\"Suma: {suma} - i:{i}\")\n",
        "  if suma>1:\n",
        "    break"
      ],
      "metadata": {
        "colab": {
          "base_uri": "https://localhost:8080/"
        },
        "id": "97dUrauvC0mu",
        "outputId": "3db21cc2-a3ba-4585-a8b9-5d4eee60619d"
      },
      "execution_count": null,
      "outputs": [
        {
          "output_type": "stream",
          "name": "stdout",
          "text": [
            "Suma: 0.5 - i:2\n",
            "Suma: 0.7 - i:3\n",
            "Suma: 0.7999999999999999 - i:4\n",
            "Suma: 0.8588235294117647 - i:5\n",
            "Suma: 0.8972850678733031 - i:6\n",
            "Suma: 0.9243120949003301 - i:7\n",
            "Suma: 0.9443120949003301 - i:8\n",
            "Suma: 0.9596967102849454 - i:9\n",
            "Suma: 0.9718918322361649 - i:10\n",
            "Suma: 0.9817928223351748 - i:11\n",
            "Suma: 0.9899895436466503 - i:12\n",
            "Suma: 0.9968860953707882 - i:13\n",
            "Suma: 1.0027684483119648 - i:14\n"
          ]
        }
      ]
    },
    {
      "cell_type": "code",
      "source": [
        "print(f\"El ultimo valor de la i para superar 1 es igual a {i-1}\")"
      ],
      "metadata": {
        "colab": {
          "base_uri": "https://localhost:8080/"
        },
        "id": "zj8-SLu_KYo_",
        "outputId": "0aca4045-012e-4d43-e78e-1f47b45da4b9"
      },
      "execution_count": null,
      "outputs": [
        {
          "output_type": "stream",
          "name": "stdout",
          "text": [
            "El ultimo valor de la i para superar 1 es igual a 13\n"
          ]
        }
      ]
    },
    {
      "cell_type": "markdown",
      "source": [
        "# Repetitiva definida:\n",
        "\n",
        "Es cuando conocemos o podemos calcular la cantidad de repeticiones que requiere un proceso. La sentencia que usa para esto es for."
      ],
      "metadata": {
        "id": "r_dtQ4ExLFY7"
      }
    },
    {
      "cell_type": "code",
      "source": [
        "N = 5\n",
        "for i in range(N): # i<N\n",
        "  print(i)"
      ],
      "metadata": {
        "colab": {
          "base_uri": "https://localhost:8080/"
        },
        "id": "Hb2rJSPlKuwK",
        "outputId": "17d8adda-2211-4c14-b0eb-e1b635b1a7d1"
      },
      "execution_count": null,
      "outputs": [
        {
          "output_type": "stream",
          "name": "stdout",
          "text": [
            "0\n",
            "1\n",
            "2\n",
            "3\n",
            "4\n"
          ]
        }
      ]
    },
    {
      "cell_type": "code",
      "source": [
        "N = 5\n",
        "M = 10\n",
        "for i in range(N,M): # i<M\n",
        "  print(i)"
      ],
      "metadata": {
        "colab": {
          "base_uri": "https://localhost:8080/"
        },
        "id": "FL8DEyvqLdX6",
        "outputId": "f211db65-952d-4f97-9518-41a3dbeac20b"
      },
      "execution_count": null,
      "outputs": [
        {
          "output_type": "stream",
          "name": "stdout",
          "text": [
            "5\n",
            "6\n",
            "7\n",
            "8\n",
            "9\n"
          ]
        }
      ]
    },
    {
      "cell_type": "code",
      "source": [
        "N = -5\n",
        "M = 10\n",
        "S = 2\n",
        "for i in range(N,M,S): # i<M\n",
        "  print(i)"
      ],
      "metadata": {
        "colab": {
          "base_uri": "https://localhost:8080/"
        },
        "id": "tgbeEohjLsXA",
        "outputId": "73b89e86-303b-4d68-80b5-f24a98124b02"
      },
      "execution_count": null,
      "outputs": [
        {
          "output_type": "stream",
          "name": "stdout",
          "text": [
            "-5\n",
            "-3\n",
            "-1\n",
            "1\n",
            "3\n",
            "5\n",
            "7\n",
            "9\n"
          ]
        }
      ]
    },
    {
      "cell_type": "code",
      "source": [
        "N = -5\n",
        "M = 10\n",
        "S = -2\n",
        "for i in range(M,N,S): # i>N\n",
        "  print(i)"
      ],
      "metadata": {
        "colab": {
          "base_uri": "https://localhost:8080/"
        },
        "id": "s7VrM95INTx6",
        "outputId": "bbec3a15-bb94-459d-eebf-fe64d2105aaa"
      },
      "execution_count": null,
      "outputs": [
        {
          "output_type": "stream",
          "name": "stdout",
          "text": [
            "10\n",
            "8\n",
            "6\n",
            "4\n",
            "2\n",
            "0\n",
            "-2\n",
            "-4\n"
          ]
        }
      ]
    },
    {
      "cell_type": "code",
      "source": [
        "print(53%2)"
      ],
      "metadata": {
        "colab": {
          "base_uri": "https://localhost:8080/"
        },
        "id": "xj2OP70bPSkq",
        "outputId": "5bc20938-549d-4018-f7d1-aedd02e99bb2"
      },
      "execution_count": null,
      "outputs": [
        {
          "output_type": "stream",
          "name": "stdout",
          "text": [
            "1\n"
          ]
        }
      ]
    },
    {
      "cell_type": "code",
      "source": [
        "numero = int(input(\"Ingrese un numero: \"))\n",
        "for i in range(numero+1):\n",
        "  if i%2 == 0:\n",
        "    print(f\"El numero {i} es par\")\n",
        "  else:\n",
        "    print(f\"El numero {i} es impar\")\n",
        "print(\"Finaliza programa\")"
      ],
      "metadata": {
        "colab": {
          "base_uri": "https://localhost:8080/"
        },
        "id": "b5yygJsNNwxp",
        "outputId": "0921ca07-38b9-45ba-d912-d6aae05e5ce9"
      },
      "execution_count": null,
      "outputs": [
        {
          "output_type": "stream",
          "name": "stdout",
          "text": [
            "Ingrese un numero: 3\n",
            "El numero 0 es par\n",
            "El numero 1 es impar\n",
            "El numero 2 es par\n",
            "El numero 3 es impar\n",
            "Finaliza programa\n"
          ]
        }
      ]
    },
    {
      "cell_type": "markdown",
      "source": [
        "# Aleatorios"
      ],
      "metadata": {
        "id": "CkNk-8AgTJAl"
      }
    },
    {
      "cell_type": "code",
      "source": [
        "import random"
      ],
      "metadata": {
        "id": "oxhKq_IQS9Pv"
      },
      "execution_count": null,
      "outputs": []
    },
    {
      "cell_type": "code",
      "source": [
        "aleatorio_entero = random.randint(1,6)\n",
        "print(aleatorio_entero)"
      ],
      "metadata": {
        "colab": {
          "base_uri": "https://localhost:8080/"
        },
        "id": "pp9rYAyiTbuZ",
        "outputId": "7472f3cc-2457-432e-c998-96eb7dfc58bc"
      },
      "execution_count": null,
      "outputs": [
        {
          "output_type": "stream",
          "name": "stdout",
          "text": [
            "1\n"
          ]
        }
      ]
    },
    {
      "cell_type": "code",
      "source": [
        "aleatorio_flotante = random.uniform(1,2)\n",
        "print(aleatorio_flotante)"
      ],
      "metadata": {
        "colab": {
          "base_uri": "https://localhost:8080/"
        },
        "id": "Were_tAUTrwY",
        "outputId": "e68bc0cd-cde6-4402-89eb-9784b28dc6f3"
      },
      "execution_count": null,
      "outputs": [
        {
          "output_type": "stream",
          "name": "stdout",
          "text": [
            "1.0206689996775364\n"
          ]
        }
      ]
    },
    {
      "cell_type": "code",
      "source": [
        "aleatorio_flotante = round(random.uniform(1,2), 4)\n",
        "print(aleatorio_flotante)"
      ],
      "metadata": {
        "id": "TaCf3ukeT7vF",
        "outputId": "1c86510f-89bc-4f0c-d394-4cb7c3ac38fe",
        "colab": {
          "base_uri": "https://localhost:8080/"
        }
      },
      "execution_count": null,
      "outputs": [
        {
          "output_type": "stream",
          "name": "stdout",
          "text": [
            "1.6141\n"
          ]
        }
      ]
    },
    {
      "cell_type": "code",
      "source": [],
      "metadata": {
        "id": "5Fqs9OXbUAdo"
      },
      "execution_count": null,
      "outputs": []
    }
  ]
}