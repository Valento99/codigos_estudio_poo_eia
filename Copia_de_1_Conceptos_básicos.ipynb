{
  "nbformat": 4,
  "nbformat_minor": 0,
  "metadata": {
    "colab": {
      "provenance": [],
      "toc_visible": true,
      "include_colab_link": true
    },
    "kernelspec": {
      "name": "python3",
      "display_name": "Python 3"
    },
    "language_info": {
      "name": "python"
    }
  },
  "cells": [
    {
      "cell_type": "markdown",
      "metadata": {
        "id": "view-in-github",
        "colab_type": "text"
      },
      "source": [
        "<a href=\"https://colab.research.google.com/github/Valento99/codigos_estudio_poo_eia/blob/main/Copia_de_1_Conceptos_b%C3%A1sicos.ipynb\" target=\"_parent\"><img src=\"https://colab.research.google.com/assets/colab-badge.svg\" alt=\"Open In Colab\"/></a>"
      ]
    },
    {
      "cell_type": "markdown",
      "source": [
        "# Variables\n",
        "\n",
        "Los tipos de datos básicos en Python:\n",
        "\n",
        "- int (integer): número que no tiene parte decimal\n",
        "- float: número que si tiene parte decimal\n",
        "- str (string): cadena de caracteres\n",
        "- bool: cuando tenemos solo dos posibles estados: True/False\n",
        "\n",
        "Para crear cualquier variable siempre debemos seguir el formato:\n",
        "\n",
        "nombre_variable = valor"
      ],
      "metadata": {
        "id": "x1FD699t6bky"
      }
    },
    {
      "cell_type": "code",
      "source": [
        "edad = 29 # Defino variable edad con valor de 29\n",
        "print(edad) # Imprimo el valor de la variable edad\n",
        "print(type(edad)) # Imprimo el tipo de dato de la variable edad"
      ],
      "metadata": {
        "colab": {
          "base_uri": "https://localhost:8080/"
        },
        "id": "mfOuOxsk6X0E",
        "outputId": "5b5dbe19-636f-4ef3-fbde-feb0f940e0cd"
      },
      "execution_count": null,
      "outputs": [
        {
          "output_type": "stream",
          "name": "stdout",
          "text": [
            "29\n",
            "<class 'int'>\n"
          ]
        }
      ]
    },
    {
      "cell_type": "code",
      "source": [
        "altura = 1.87\n",
        "print(altura)\n",
        "print(type(altura))"
      ],
      "metadata": {
        "colab": {
          "base_uri": "https://localhost:8080/"
        },
        "id": "0UhLzMNJ_6L1",
        "outputId": "d6062604-5451-49ff-d239-c1dd8c5ce541"
      },
      "execution_count": null,
      "outputs": [
        {
          "output_type": "stream",
          "name": "stdout",
          "text": [
            "1.87\n",
            "<class 'float'>\n"
          ]
        }
      ]
    },
    {
      "cell_type": "code",
      "source": [
        "nombre_completo = \"Santiago Mendez\"\n",
        "print(nombre_completo)\n",
        "print(type(nombre_completo))"
      ],
      "metadata": {
        "colab": {
          "base_uri": "https://localhost:8080/"
        },
        "id": "l5o9PQgn-mHR",
        "outputId": "f3ccd57d-280a-4b4b-c8ff-f6ba391291ee"
      },
      "execution_count": null,
      "outputs": [
        {
          "output_type": "stream",
          "name": "stdout",
          "text": [
            "Santiago Mendez\n",
            "<class 'str'>\n"
          ]
        }
      ]
    },
    {
      "cell_type": "code",
      "source": [
        "asistencia = True\n",
        "print(asistencia)\n",
        "print(type(asistencia))"
      ],
      "metadata": {
        "colab": {
          "base_uri": "https://localhost:8080/"
        },
        "id": "L6j7PTpZ_eUg",
        "outputId": "27579bd3-81d6-43e5-db58-4214aa9727f3"
      },
      "execution_count": null,
      "outputs": [
        {
          "output_type": "stream",
          "name": "stdout",
          "text": [
            "True\n",
            "<class 'bool'>\n"
          ]
        }
      ]
    },
    {
      "cell_type": "code",
      "source": [
        "variable = None\n",
        "print(variable)\n",
        "print(type(variable))"
      ],
      "metadata": {
        "colab": {
          "base_uri": "https://localhost:8080/"
        },
        "id": "EK90i6KQAWio",
        "outputId": "bb5cae72-0aa2-4cc4-ee35-0de819723912"
      },
      "execution_count": null,
      "outputs": [
        {
          "output_type": "stream",
          "name": "stdout",
          "text": [
            "None\n",
            "<class 'NoneType'>\n"
          ]
        }
      ]
    },
    {
      "cell_type": "code",
      "source": [
        "# Constantes\n",
        "\n",
        "DIAS_SEMANA = 7\n",
        "MESES_AÑO = 12"
      ],
      "metadata": {
        "colab": {
          "base_uri": "https://localhost:8080/"
        },
        "id": "edzZ0svcAnyj",
        "outputId": "e2e3ea24-6a47-4a2c-ce0e-801d92ace9ce"
      },
      "execution_count": null,
      "outputs": [
        {
          "output_type": "stream",
          "name": "stdout",
          "text": [
            "7\n",
            "15\n"
          ]
        }
      ]
    },
    {
      "cell_type": "markdown",
      "source": [
        "# Operadores:\n",
        "\n",
        "Python cuenta con diferentes tipos de operadores, pero los 3 principales son:\n",
        "\n",
        "- Aritméticos\n",
        "- Relacionales o de comparación\n",
        "- Lógicos"
      ],
      "metadata": {
        "id": "Bxsh1DLME9ld"
      }
    },
    {
      "cell_type": "code",
      "source": [
        "# Aritméticos\n",
        "x = 3\n",
        "y = 2\n",
        "\n",
        "suma = x + y\n",
        "print(suma)\n",
        "resta = x - y\n",
        "print(resta)\n",
        "multiplicacion = x * y\n",
        "print(multiplicacion)\n",
        "division = x/y # La división SIEMPRE entrega un resultado float\n",
        "print(division)\n",
        "potencia = x**y\n",
        "print(potencia)\n",
        "division_entero = x//y\n",
        "print(division_entero)\n",
        "modulo = x%y\n",
        "print(modulo)"
      ],
      "metadata": {
        "colab": {
          "base_uri": "https://localhost:8080/"
        },
        "id": "9ifU-OV5EOGD",
        "outputId": "108789d9-2c48-481f-97dc-87d62cfea76c"
      },
      "execution_count": null,
      "outputs": [
        {
          "output_type": "stream",
          "name": "stdout",
          "text": [
            "5\n",
            "1\n",
            "6\n",
            "1.5\n",
            "9\n",
            "1\n",
            "1\n"
          ]
        }
      ]
    },
    {
      "cell_type": "code",
      "source": [
        "print(100%5)"
      ],
      "metadata": {
        "colab": {
          "base_uri": "https://localhost:8080/"
        },
        "id": "ZbYO5NbMFaJE",
        "outputId": "deb85c2c-1065-48e0-f468-b7f2a40babc0"
      },
      "execution_count": null,
      "outputs": [
        {
          "output_type": "stream",
          "name": "stdout",
          "text": [
            "0\n"
          ]
        }
      ]
    },
    {
      "cell_type": "code",
      "source": [
        "nombre = 'Santiago'\n",
        "apellido = 'Mendez'\n",
        "nombre_completo = nombre + \" \" + apellido # Concatenar : sumar textos\n",
        "print(nombre_completo)"
      ],
      "metadata": {
        "colab": {
          "base_uri": "https://localhost:8080/"
        },
        "id": "NGbTA6QhH0nk",
        "outputId": "b6f06fd2-a514-44af-fb9c-1749baec514a"
      },
      "execution_count": null,
      "outputs": [
        {
          "output_type": "stream",
          "name": "stdout",
          "text": [
            "Santiago Mendez\n"
          ]
        }
      ]
    },
    {
      "cell_type": "code",
      "source": [
        "risa = 'JAJA'\n",
        "print(risa)\n",
        "risa_exagerada = risa*10\n",
        "print(risa_exagerada)"
      ],
      "metadata": {
        "colab": {
          "base_uri": "https://localhost:8080/"
        },
        "id": "pLsb3-3cJYjb",
        "outputId": "327886a6-3d3a-4442-ec52-2464608a0df9"
      },
      "execution_count": null,
      "outputs": [
        {
          "output_type": "stream",
          "name": "stdout",
          "text": [
            "JAJA\n",
            "JAJAJAJAJAJAJAJAJAJAJAJAJAJAJAJAJAJAJAJA\n"
          ]
        }
      ]
    },
    {
      "cell_type": "code",
      "source": [
        "# Relacionales o de comparación\n",
        "a = 5\n",
        "b = 10\n",
        "\n",
        "a_menor_b = a<b\n",
        "print(a_menor_b)\n",
        "a_mayor_b = a>b\n",
        "print(a_mayor_b)\n",
        "a_menor_igual_b = a<=b\n",
        "print(a_menor_igual_b)\n",
        "a_mayor_igual_b = a>=b\n",
        "print(a_mayor_igual_b)\n",
        "a_igual_b = a==b\n",
        "print(a_igual_b)\n",
        "a_diferente_b = a!=b\n",
        "print(a_diferente_b)"
      ],
      "metadata": {
        "colab": {
          "base_uri": "https://localhost:8080/"
        },
        "id": "8rQafdoSKGDx",
        "outputId": "16aecbb1-18fe-44f8-c795-8596fd4cdf1e"
      },
      "execution_count": null,
      "outputs": [
        {
          "output_type": "stream",
          "name": "stdout",
          "text": [
            "True\n",
            "False\n",
            "True\n",
            "False\n",
            "False\n",
            "True\n"
          ]
        }
      ]
    },
    {
      "cell_type": "code",
      "source": [
        "texto_a = 'hola'\n",
        "texto_b = 'HOLA'\n",
        "\n",
        "textos_iguales = texto_a == texto_b\n",
        "print(textos_iguales)\n",
        "textos_diferentes = texto_a != texto_b\n",
        "print(textos_diferentes)"
      ],
      "metadata": {
        "colab": {
          "base_uri": "https://localhost:8080/"
        },
        "id": "okGt_1o3Klgm",
        "outputId": "a6684cfd-10ad-4dbe-88c0-ab4bf5f4175b"
      },
      "execution_count": null,
      "outputs": [
        {
          "output_type": "stream",
          "name": "stdout",
          "text": [
            "False\n",
            "True\n"
          ]
        }
      ]
    },
    {
      "cell_type": "code",
      "source": [
        "# Lógicos\n",
        "\n",
        "verdadero = True\n",
        "falso = False\n",
        "resultado_and = falso and falso\n",
        "print(resultado_and)\n",
        "resultado_or = falso or verdadero\n",
        "print(resultado_or)\n",
        "resultado_not = not falso\n",
        "print(resultado_not)"
      ],
      "metadata": {
        "colab": {
          "base_uri": "https://localhost:8080/"
        },
        "id": "a3mwBT4vMWGE",
        "outputId": "1513006a-3ca2-4674-a026-49606390c384"
      },
      "execution_count": null,
      "outputs": [
        {
          "output_type": "stream",
          "name": "stdout",
          "text": [
            "False\n",
            "True\n",
            "True\n"
          ]
        }
      ]
    },
    {
      "cell_type": "markdown",
      "source": [
        "Orden de solución con diferentes operadores:\n",
        "\n",
        "0. Los paréntesis siempre van a tener mayor prioridad\n",
        "1. Aritméticos: por sus propias reglas(* y / , luego + y -)\n",
        "2. Relacionales\n",
        "3. Lógicos: and, or, not\n",
        "\n",
        "Ejercicios orden de procedencia operadores:"
      ],
      "metadata": {
        "id": "DCbZ77f2twib"
      }
    },
    {
      "cell_type": "code",
      "source": [
        "# 1.\n",
        "\n",
        "resultado1 = 5 + 3*8/2 -1\n",
        "print(resultado1)"
      ],
      "metadata": {
        "id": "fUdFi6PIPExG",
        "colab": {
          "base_uri": "https://localhost:8080/"
        },
        "outputId": "059e9733-269f-40f8-8aaf-480a76c8ab45"
      },
      "execution_count": null,
      "outputs": [
        {
          "output_type": "stream",
          "name": "stdout",
          "text": [
            "16.0\n"
          ]
        }
      ]
    },
    {
      "cell_type": "code",
      "source": [
        "resultado1 = 5 + 24/2 -1\n",
        "print(resultado1)"
      ],
      "metadata": {
        "colab": {
          "base_uri": "https://localhost:8080/"
        },
        "id": "YIZ831vvuXOu",
        "outputId": "f20c96ee-5299-4f3b-fc08-6ebf445e600d"
      },
      "execution_count": null,
      "outputs": [
        {
          "output_type": "stream",
          "name": "stdout",
          "text": [
            "16.0\n"
          ]
        }
      ]
    },
    {
      "cell_type": "code",
      "source": [
        "resultado1 = 5 + 12 -1\n",
        "print(resultado1)"
      ],
      "metadata": {
        "colab": {
          "base_uri": "https://localhost:8080/"
        },
        "id": "_D5K1myLueKg",
        "outputId": "88d1ae27-8595-48ea-9c08-4d7f840468f6"
      },
      "execution_count": null,
      "outputs": [
        {
          "output_type": "stream",
          "name": "stdout",
          "text": [
            "16\n"
          ]
        }
      ]
    },
    {
      "cell_type": "code",
      "source": [
        "resultado1 = 16\n",
        "print(resultado1)"
      ],
      "metadata": {
        "colab": {
          "base_uri": "https://localhost:8080/"
        },
        "id": "DUe2RLF7u57D",
        "outputId": "039677d5-1d86-4f05-9387-1f783ed8c018"
      },
      "execution_count": null,
      "outputs": [
        {
          "output_type": "stream",
          "name": "stdout",
          "text": [
            "16\n"
          ]
        }
      ]
    },
    {
      "cell_type": "code",
      "source": [
        "# 2\n",
        "\n",
        "resultado4 = 15 +7*3 != (5*4/2+8)*2\n",
        "print(resultado4)"
      ],
      "metadata": {
        "colab": {
          "base_uri": "https://localhost:8080/"
        },
        "id": "vYl_Z2hjuWh2",
        "outputId": "6e4421bc-81fa-404e-8fa7-88ce6483f679"
      },
      "execution_count": null,
      "outputs": [
        {
          "output_type": "stream",
          "name": "stdout",
          "text": [
            "False\n"
          ]
        }
      ]
    },
    {
      "cell_type": "code",
      "source": [
        "resultado4 = 15 +7*3 != (20/2+8)*2\n",
        "print(resultado4)"
      ],
      "metadata": {
        "colab": {
          "base_uri": "https://localhost:8080/"
        },
        "id": "RApIWKWVvnxW",
        "outputId": "2ea8c3fd-1873-4041-b456-79f779ff6619"
      },
      "execution_count": null,
      "outputs": [
        {
          "output_type": "stream",
          "name": "stdout",
          "text": [
            "False\n"
          ]
        }
      ]
    },
    {
      "cell_type": "code",
      "source": [
        "resultado4 = 15 +7*3 != (10+8)*2\n",
        "print(resultado4)"
      ],
      "metadata": {
        "colab": {
          "base_uri": "https://localhost:8080/"
        },
        "id": "VCq3zpg2vqFM",
        "outputId": "ba6d29ac-39ca-4fb8-aec8-4686ed4cd5bb"
      },
      "execution_count": null,
      "outputs": [
        {
          "output_type": "stream",
          "name": "stdout",
          "text": [
            "False\n"
          ]
        }
      ]
    },
    {
      "cell_type": "code",
      "source": [
        "resultado4 = 15 +7*3 != (18)*2\n",
        "print(resultado4)"
      ],
      "metadata": {
        "colab": {
          "base_uri": "https://localhost:8080/"
        },
        "id": "64FI-Xu8vr_Q",
        "outputId": "84c2c927-b697-4482-e258-8331d8ed7977"
      },
      "execution_count": null,
      "outputs": [
        {
          "output_type": "stream",
          "name": "stdout",
          "text": [
            "False\n"
          ]
        }
      ]
    },
    {
      "cell_type": "code",
      "source": [
        "resultado4 = 15 +21 != 36\n",
        "print(resultado4)"
      ],
      "metadata": {
        "colab": {
          "base_uri": "https://localhost:8080/"
        },
        "id": "p6pOnKr2vzLh",
        "outputId": "306363c1-ce80-4422-d983-d32bb8e53877"
      },
      "execution_count": null,
      "outputs": [
        {
          "output_type": "stream",
          "name": "stdout",
          "text": [
            "False\n"
          ]
        }
      ]
    },
    {
      "cell_type": "code",
      "source": [
        "resultado4 = 36 != 36\n",
        "print(resultado4)"
      ],
      "metadata": {
        "colab": {
          "base_uri": "https://localhost:8080/"
        },
        "id": "vhgUJha5v5gV",
        "outputId": "20d62477-3cc8-4d71-84d7-ade80ae47c36"
      },
      "execution_count": null,
      "outputs": [
        {
          "output_type": "stream",
          "name": "stdout",
          "text": [
            "False\n"
          ]
        }
      ]
    },
    {
      "cell_type": "code",
      "source": [
        "print(15+21)"
      ],
      "metadata": {
        "colab": {
          "base_uri": "https://localhost:8080/"
        },
        "id": "j1TZah5mt-ZU",
        "outputId": "89fb7093-eddb-48ed-bda6-d82b67256d7c"
      },
      "execution_count": null,
      "outputs": [
        {
          "output_type": "stream",
          "name": "stdout",
          "text": [
            "36\n"
          ]
        }
      ]
    },
    {
      "cell_type": "code",
      "source": [
        "# 3\n",
        "\n",
        "resultado5 =  3+2<10 and 'hola' == 'HOLA'\n",
        "print(resultado5)"
      ],
      "metadata": {
        "colab": {
          "base_uri": "https://localhost:8080/"
        },
        "id": "gGe8hOmIvJZ5",
        "outputId": "8a55d28a-a8ed-4346-ea87-c81d4c15dfcd"
      },
      "execution_count": null,
      "outputs": [
        {
          "output_type": "stream",
          "name": "stdout",
          "text": [
            "False\n"
          ]
        }
      ]
    },
    {
      "cell_type": "code",
      "source": [
        "resultado5 =  5<10 and 'hola' == 'HOLA'\n",
        "print(resultado5)"
      ],
      "metadata": {
        "colab": {
          "base_uri": "https://localhost:8080/"
        },
        "id": "FkNaN5OlwMzM",
        "outputId": "77353642-ab82-45da-d8ea-8eb0829f7c17"
      },
      "execution_count": null,
      "outputs": [
        {
          "output_type": "stream",
          "name": "stdout",
          "text": [
            "False\n"
          ]
        }
      ]
    },
    {
      "cell_type": "code",
      "source": [
        "resultado5 =  True and False\n",
        "print(resultado5)"
      ],
      "metadata": {
        "colab": {
          "base_uri": "https://localhost:8080/"
        },
        "id": "kiYggOxBwQmu",
        "outputId": "18761e44-11e7-4b22-98e2-ca9e09e75544"
      },
      "execution_count": null,
      "outputs": [
        {
          "output_type": "stream",
          "name": "stdout",
          "text": [
            "False\n"
          ]
        }
      ]
    },
    {
      "cell_type": "markdown",
      "source": [
        "# Linealización de expresiones:"
      ],
      "metadata": {
        "id": "g5JobnnYxbNf"
      }
    },
    {
      "cell_type": "code",
      "source": [
        "import math"
      ],
      "metadata": {
        "id": "RSvbWcwbwZ0Z"
      },
      "execution_count": null,
      "outputs": []
    },
    {
      "cell_type": "code",
      "source": [
        "numero_pi = math.pi\n",
        "print(numero_pi)"
      ],
      "metadata": {
        "colab": {
          "base_uri": "https://localhost:8080/"
        },
        "id": "uRfWh-XGya47",
        "outputId": "f4bc9bdb-254d-441a-e7c7-bb69e04a33c3"
      },
      "execution_count": null,
      "outputs": [
        {
          "output_type": "stream",
          "name": "stdout",
          "text": [
            "3.141592653589793\n"
          ]
        }
      ]
    },
    {
      "cell_type": "code",
      "source": [
        "seno = math.sin(numero_pi)\n",
        "print(seno)"
      ],
      "metadata": {
        "colab": {
          "base_uri": "https://localhost:8080/"
        },
        "id": "z8l7Bttyyq51",
        "outputId": "c26c7f4b-70f4-417d-e4e2-1125cf3ed6ae"
      },
      "execution_count": null,
      "outputs": [
        {
          "output_type": "stream",
          "name": "stdout",
          "text": [
            "1.2246467991473532e-16\n"
          ]
        }
      ]
    },
    {
      "cell_type": "code",
      "source": [
        "raiz = math.sqrt(13)\n",
        "print(raiz)"
      ],
      "metadata": {
        "colab": {
          "base_uri": "https://localhost:8080/"
        },
        "id": "PFkKe7FAy017",
        "outputId": "82d99a84-53a2-4bdf-ccf1-287bb5166d3a"
      },
      "execution_count": null,
      "outputs": [
        {
          "output_type": "stream",
          "name": "stdout",
          "text": [
            "3.605551275463989\n"
          ]
        }
      ]
    },
    {
      "cell_type": "code",
      "source": [
        "raiz = 4**(1/10)\n",
        "print(raiz)"
      ],
      "metadata": {
        "colab": {
          "base_uri": "https://localhost:8080/"
        },
        "id": "Y7ypgUu3zQTv",
        "outputId": "96e78ffe-e72c-4c72-8b5c-afa5b372e65b"
      },
      "execution_count": null,
      "outputs": [
        {
          "output_type": "stream",
          "name": "stdout",
          "text": [
            "1.148698354997035\n"
          ]
        }
      ]
    },
    {
      "cell_type": "code",
      "source": [
        "from math import cos"
      ],
      "metadata": {
        "id": "6PiJJNb0z_9N"
      },
      "execution_count": null,
      "outputs": []
    },
    {
      "cell_type": "code",
      "source": [
        "coseno = cos(numero_pi)\n",
        "print(coseno)"
      ],
      "metadata": {
        "colab": {
          "base_uri": "https://localhost:8080/"
        },
        "id": "5uKbM6Wi0gQa",
        "outputId": "3b17906b-b96e-4fd1-deb8-2bd68d57c6dd"
      },
      "execution_count": null,
      "outputs": [
        {
          "output_type": "stream",
          "name": "stdout",
          "text": [
            "-1.0\n"
          ]
        }
      ]
    },
    {
      "cell_type": "code",
      "source": [
        "a = 1\n",
        "b = 25\n",
        "c = 2\n",
        "\n",
        "x1 = (-b + math.sqrt(b**2-4*a*c))/2*a\n",
        "print(x1)"
      ],
      "metadata": {
        "colab": {
          "base_uri": "https://localhost:8080/"
        },
        "id": "nUFMIc9G0lK2",
        "outputId": "881b8cc4-70a8-4631-b85e-0db2ca81ca08"
      },
      "execution_count": null,
      "outputs": [
        {
          "output_type": "stream",
          "name": "stdout",
          "text": [
            "-0.08025765162577869\n"
          ]
        }
      ]
    },
    {
      "cell_type": "markdown",
      "source": [
        "Ejercicios linealización:"
      ],
      "metadata": {
        "id": "0eTOQY-c3G9T"
      }
    },
    {
      "cell_type": "code",
      "source": [
        "a = 1\n",
        "b = 25\n",
        "c = 2\n",
        "d = 4"
      ],
      "metadata": {
        "id": "GQFK5fEL12Bg"
      },
      "execution_count": null,
      "outputs": []
    },
    {
      "cell_type": "code",
      "source": [
        "x = (a+b+c/(d*a))/(a+b*(c/d))\n",
        "print(x)"
      ],
      "metadata": {
        "colab": {
          "base_uri": "https://localhost:8080/"
        },
        "id": "-IpXewEn3bE_",
        "outputId": "39105fe5-76cb-4478-825b-dad766459a57"
      },
      "execution_count": null,
      "outputs": [
        {
          "output_type": "stream",
          "name": "stdout",
          "text": [
            "1.962962962962963\n"
          ]
        }
      ]
    },
    {
      "cell_type": "code",
      "source": [
        "x = (a+b/(a+b+(b/c)))/(c+b/(c+a))\n",
        "print(x)"
      ],
      "metadata": {
        "colab": {
          "base_uri": "https://localhost:8080/"
        },
        "id": "ddDUtAzn36UZ",
        "outputId": "97701f00-291d-476d-a66d-1c188dadc26c"
      },
      "execution_count": null,
      "outputs": [
        {
          "output_type": "stream",
          "name": "stdout",
          "text": [
            "0.15961457896941766\n"
          ]
        }
      ]
    },
    {
      "cell_type": "markdown",
      "source": [
        "# Consola\n",
        "\n",
        "Es aquella herramienta que le permite a un programa mostrar o recibir información de manera dinámica, esto se hace a partir de dos comandos:\n",
        "\n",
        "- print: mostrar información\n",
        "- input: recibir información\n",
        "\n"
      ],
      "metadata": {
        "id": "2aKZfsl54v-J"
      }
    },
    {
      "cell_type": "code",
      "source": [
        "texto = input(\"Ingrese un texto: \")\n",
        "print(type(texto))\n",
        "print(texto)"
      ],
      "metadata": {
        "colab": {
          "base_uri": "https://localhost:8080/"
        },
        "id": "l-BWPw564U1r",
        "outputId": "8e52faad-57c1-4b2d-f861-e82de3d55400"
      },
      "execution_count": null,
      "outputs": [
        {
          "output_type": "stream",
          "name": "stdout",
          "text": [
            "Ingrese un texto: 12345\n",
            "<class 'str'>\n",
            "12345\n"
          ]
        }
      ]
    },
    {
      "cell_type": "markdown",
      "source": [
        "- Cuando se usa el comando input, el programa se detiene en dicha línea hasta que se ingrese algo en la celda/casilla.\n",
        "\n",
        "- SIEMPRE que se use input, lo que se ingresa se va a entender como un texto."
      ],
      "metadata": {
        "id": "lys9I-h95lnq"
      }
    },
    {
      "cell_type": "code",
      "source": [
        "numero_entero = int(input(\"Ingrese un número: \"))\n",
        "print(numero_entero+2)"
      ],
      "metadata": {
        "colab": {
          "base_uri": "https://localhost:8080/"
        },
        "id": "bXFgcQ985PCk",
        "outputId": "c021b557-d5d8-4475-f8b5-b4b44b0a2299"
      },
      "execution_count": null,
      "outputs": [
        {
          "output_type": "stream",
          "name": "stdout",
          "text": [
            "Ingrese un número: 2\n",
            "4\n"
          ]
        }
      ]
    },
    {
      "cell_type": "code",
      "source": [
        "numero_flotante = float(input(\"Ingrese un número: \"))\n",
        "print(numero_flotante+2)"
      ],
      "metadata": {
        "colab": {
          "base_uri": "https://localhost:8080/"
        },
        "id": "oiUDH7EX6LRP",
        "outputId": "8ede2d93-bfb4-4425-f754-1fe8e7b3090d"
      },
      "execution_count": null,
      "outputs": [
        {
          "output_type": "stream",
          "name": "stdout",
          "text": [
            "Ingrese un número: 2\n",
            "4.0\n"
          ]
        }
      ]
    },
    {
      "cell_type": "markdown",
      "source": [
        "# F-strings:\n",
        "\n",
        "Es una manera de darle formato a un texto. Debemos colocar una f antes de las comillas y lo que queremos que esté relacionado con una variable debemos indicarlo con {}."
      ],
      "metadata": {
        "id": "DkTxf1ftDZhT"
      }
    },
    {
      "cell_type": "code",
      "source": [
        "x = 3\n",
        "y = 5\n",
        "suma = x + y\n",
        "mensaje = f\"La suma de {x} y {y} es igual a {suma}\"\n",
        "print(mensaje)"
      ],
      "metadata": {
        "colab": {
          "base_uri": "https://localhost:8080/"
        },
        "id": "SWhMQZAfDbGj",
        "outputId": "fd8b3010-9da3-436e-c276-9217b5969421"
      },
      "execution_count": null,
      "outputs": [
        {
          "output_type": "stream",
          "name": "stdout",
          "text": [
            "La suma de 3 y 5 es igual a 8\n"
          ]
        }
      ]
    },
    {
      "cell_type": "code",
      "source": [
        "x = 3\n",
        "y = 5\n",
        "suma = x + y\n",
        "print(f\"La suma de {x} y {y} es igual a {suma}\")"
      ],
      "metadata": {
        "colab": {
          "base_uri": "https://localhost:8080/"
        },
        "id": "-f_ahVOSDmPQ",
        "outputId": "fd05eb07-dedc-461a-a553-e164e5dcf3ba"
      },
      "execution_count": null,
      "outputs": [
        {
          "output_type": "stream",
          "name": "stdout",
          "text": [
            "La suma de 3 y 5 es igual a 8\n"
          ]
        }
      ]
    },
    {
      "cell_type": "code",
      "source": [
        "x = 3\n",
        "y = 5\n",
        "suma = x + y\n",
        "mensaje = \"La suma de {} y {} es igual a {}\".format(x,y,suma)\n",
        "print(mensaje)"
      ],
      "metadata": {
        "colab": {
          "base_uri": "https://localhost:8080/"
        },
        "id": "Ln8I3SfoETgv",
        "outputId": "2bfd5381-3cfe-4fcd-e92a-5524075f2bb9"
      },
      "execution_count": null,
      "outputs": [
        {
          "output_type": "stream",
          "name": "stdout",
          "text": [
            "La suma de 3 y 5 es igual a 8\n"
          ]
        }
      ]
    },
    {
      "cell_type": "code",
      "source": [
        "x = 3\n",
        "y = 5\n",
        "suma = x + y\n",
        "print(\"La suma de {} y {} es igual a {}\".format(x,y,suma))"
      ],
      "metadata": {
        "colab": {
          "base_uri": "https://localhost:8080/"
        },
        "id": "nRCrEdweEd7j",
        "outputId": "2711eb94-c2ef-47e3-a0da-c1737409bb60"
      },
      "execution_count": null,
      "outputs": [
        {
          "output_type": "stream",
          "name": "stdout",
          "text": [
            "La suma de 3 y 5 es igual a 8\n"
          ]
        }
      ]
    },
    {
      "cell_type": "code",
      "source": [
        "x = 3\n",
        "y = 5\n",
        "suma = x + y\n",
        "print(\"La suma de\",x,\"y\",y,\"es igual a\",suma)"
      ],
      "metadata": {
        "colab": {
          "base_uri": "https://localhost:8080/"
        },
        "id": "Vf6hRpZYE1Da",
        "outputId": "49d1d786-571f-45f7-96be-5216cbd90ecf"
      },
      "execution_count": null,
      "outputs": [
        {
          "output_type": "stream",
          "name": "stdout",
          "text": [
            "La suma de 3 y 5 es igual a 8\n"
          ]
        }
      ]
    },
    {
      "cell_type": "markdown",
      "source": [
        "# Ejercicios"
      ],
      "metadata": {
        "id": "rhbWo3HmGXTh"
      }
    },
    {
      "cell_type": "code",
      "source": [
        "# 1 IMC\n",
        "\n",
        "nombre = input(\"Ingrese nombre: \")\n",
        "edad = input(\"Ingrese edad: \")\n",
        "altura = float(input(\"Ingrese altura: \"))\n",
        "masa = float(input(\"Ingrese masa: \"))\n",
        "imc = round(masa/altura**2, 3)\n",
        "\n",
        "print(f\"Hola, soy {nombre}, tengo {edad} años y mi IMC es de {imc}\")"
      ],
      "metadata": {
        "colab": {
          "base_uri": "https://localhost:8080/"
        },
        "id": "C5uUTZmiFP4q",
        "outputId": "e7ec6976-4c34-4c10-f8f6-a0bb9c70503d"
      },
      "execution_count": null,
      "outputs": [
        {
          "output_type": "stream",
          "name": "stdout",
          "text": [
            "Ingrese nombre: Santiago\n",
            "Ingrese edad: 29\n",
            "Ingrese altura: 1.87\n",
            "Ingrese masa: 80\n",
            "Hola, soy Santiago, tengo 29 años y mi IMC es de 22.877\n"
          ]
        }
      ]
    },
    {
      "cell_type": "code",
      "source": [
        "# De COP a USD\n",
        "dinero_cop = float(input(\"Ingrese un valor en COP: \"))\n",
        "dinero_usd = dinero_cop*0.00024\n",
        "print(f\"Valor COP: {dinero_cop} - Valor USD: {dinero_usd}\")"
      ],
      "metadata": {
        "colab": {
          "base_uri": "https://localhost:8080/"
        },
        "id": "flExS0RoGdiY",
        "outputId": "79f368d2-6adb-4905-c614-f579e45b27e7"
      },
      "execution_count": null,
      "outputs": [
        {
          "output_type": "stream",
          "name": "stdout",
          "text": [
            "Ingrese un valor en COP: 400000\n",
            "Valor COP: 400000.0 - Valor USD: 96.0\n"
          ]
        }
      ]
    },
    {
      "cell_type": "code",
      "source": [],
      "metadata": {
        "id": "euS-A_a6Iphx"
      },
      "execution_count": null,
      "outputs": []
    }
  ]
}